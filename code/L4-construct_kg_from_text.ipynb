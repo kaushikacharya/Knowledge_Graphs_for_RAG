{
 "cells": [
  {
   "cell_type": "markdown",
   "metadata": {},
   "source": [
    "# Lesson 4: Constructing a Knowledge Graph from Text Documents"
   ]
  },
  {
   "cell_type": "markdown",
   "metadata": {},
   "source": [
    "### Import packages and set up Neo4j"
   ]
  },
  {
   "cell_type": "code",
   "execution_count": 1,
   "metadata": {},
   "outputs": [
    {
     "name": "stdout",
     "output_type": "stream",
     "text": [
      "Requirement already satisfied: langchain-openai in /home/kaushik/miniconda3/envs/py3_knowledge_graphs_rag_course/lib/python3.12/site-packages (0.1.6)\n",
      "Requirement already satisfied: langchain-core<0.2.0,>=0.1.46 in /home/kaushik/miniconda3/envs/py3_knowledge_graphs_rag_course/lib/python3.12/site-packages (from langchain-openai) (0.1.52)\n",
      "Requirement already satisfied: openai<2.0.0,>=1.24.0 in /home/kaushik/miniconda3/envs/py3_knowledge_graphs_rag_course/lib/python3.12/site-packages (from langchain-openai) (1.27.0)\n",
      "Requirement already satisfied: tiktoken<1,>=0.5.2 in /home/kaushik/miniconda3/envs/py3_knowledge_graphs_rag_course/lib/python3.12/site-packages (from langchain-openai) (0.6.0)\n",
      "Requirement already satisfied: PyYAML>=5.3 in /home/kaushik/miniconda3/envs/py3_knowledge_graphs_rag_course/lib/python3.12/site-packages (from langchain-core<0.2.0,>=0.1.46->langchain-openai) (6.0.1)\n",
      "Requirement already satisfied: jsonpatch<2.0,>=1.33 in /home/kaushik/miniconda3/envs/py3_knowledge_graphs_rag_course/lib/python3.12/site-packages (from langchain-core<0.2.0,>=0.1.46->langchain-openai) (1.33)\n",
      "Requirement already satisfied: langsmith<0.2.0,>=0.1.0 in /home/kaushik/miniconda3/envs/py3_knowledge_graphs_rag_course/lib/python3.12/site-packages (from langchain-core<0.2.0,>=0.1.46->langchain-openai) (0.1.52)\n",
      "Requirement already satisfied: packaging<24.0,>=23.2 in /home/kaushik/miniconda3/envs/py3_knowledge_graphs_rag_course/lib/python3.12/site-packages (from langchain-core<0.2.0,>=0.1.46->langchain-openai) (23.2)\n",
      "Requirement already satisfied: pydantic<3,>=1 in /home/kaushik/miniconda3/envs/py3_knowledge_graphs_rag_course/lib/python3.12/site-packages (from langchain-core<0.2.0,>=0.1.46->langchain-openai) (2.7.1)\n",
      "Requirement already satisfied: tenacity<9.0.0,>=8.1.0 in /home/kaushik/miniconda3/envs/py3_knowledge_graphs_rag_course/lib/python3.12/site-packages (from langchain-core<0.2.0,>=0.1.46->langchain-openai) (8.2.3)\n",
      "Requirement already satisfied: anyio<5,>=3.5.0 in /home/kaushik/miniconda3/envs/py3_knowledge_graphs_rag_course/lib/python3.12/site-packages (from openai<2.0.0,>=1.24.0->langchain-openai) (4.3.0)\n",
      "Requirement already satisfied: distro<2,>=1.7.0 in /home/kaushik/miniconda3/envs/py3_knowledge_graphs_rag_course/lib/python3.12/site-packages (from openai<2.0.0,>=1.24.0->langchain-openai) (1.9.0)\n",
      "Requirement already satisfied: httpx<1,>=0.23.0 in /home/kaushik/miniconda3/envs/py3_knowledge_graphs_rag_course/lib/python3.12/site-packages (from openai<2.0.0,>=1.24.0->langchain-openai) (0.27.0)\n",
      "Requirement already satisfied: sniffio in /home/kaushik/miniconda3/envs/py3_knowledge_graphs_rag_course/lib/python3.12/site-packages (from openai<2.0.0,>=1.24.0->langchain-openai) (1.3.1)\n",
      "Requirement already satisfied: tqdm>4 in /home/kaushik/miniconda3/envs/py3_knowledge_graphs_rag_course/lib/python3.12/site-packages (from openai<2.0.0,>=1.24.0->langchain-openai) (4.66.4)\n",
      "Requirement already satisfied: typing-extensions<5,>=4.7 in /home/kaushik/miniconda3/envs/py3_knowledge_graphs_rag_course/lib/python3.12/site-packages (from openai<2.0.0,>=1.24.0->langchain-openai) (4.11.0)\n",
      "Requirement already satisfied: regex>=2022.1.18 in /home/kaushik/miniconda3/envs/py3_knowledge_graphs_rag_course/lib/python3.12/site-packages (from tiktoken<1,>=0.5.2->langchain-openai) (2024.4.28)\n",
      "Requirement already satisfied: requests>=2.26.0 in /home/kaushik/miniconda3/envs/py3_knowledge_graphs_rag_course/lib/python3.12/site-packages (from tiktoken<1,>=0.5.2->langchain-openai) (2.31.0)\n",
      "Requirement already satisfied: idna>=2.8 in /home/kaushik/miniconda3/envs/py3_knowledge_graphs_rag_course/lib/python3.12/site-packages (from anyio<5,>=3.5.0->openai<2.0.0,>=1.24.0->langchain-openai) (3.7)\n",
      "Requirement already satisfied: certifi in /home/kaushik/miniconda3/envs/py3_knowledge_graphs_rag_course/lib/python3.12/site-packages (from httpx<1,>=0.23.0->openai<2.0.0,>=1.24.0->langchain-openai) (2024.2.2)\n",
      "Requirement already satisfied: httpcore==1.* in /home/kaushik/miniconda3/envs/py3_knowledge_graphs_rag_course/lib/python3.12/site-packages (from httpx<1,>=0.23.0->openai<2.0.0,>=1.24.0->langchain-openai) (1.0.5)\n",
      "Requirement already satisfied: h11<0.15,>=0.13 in /home/kaushik/miniconda3/envs/py3_knowledge_graphs_rag_course/lib/python3.12/site-packages (from httpcore==1.*->httpx<1,>=0.23.0->openai<2.0.0,>=1.24.0->langchain-openai) (0.14.0)\n",
      "Requirement already satisfied: jsonpointer>=1.9 in /home/kaushik/miniconda3/envs/py3_knowledge_graphs_rag_course/lib/python3.12/site-packages (from jsonpatch<2.0,>=1.33->langchain-core<0.2.0,>=0.1.46->langchain-openai) (2.4)\n",
      "Requirement already satisfied: orjson<4.0.0,>=3.9.14 in /home/kaushik/miniconda3/envs/py3_knowledge_graphs_rag_course/lib/python3.12/site-packages (from langsmith<0.2.0,>=0.1.0->langchain-core<0.2.0,>=0.1.46->langchain-openai) (3.10.2)\n",
      "Requirement already satisfied: annotated-types>=0.4.0 in /home/kaushik/miniconda3/envs/py3_knowledge_graphs_rag_course/lib/python3.12/site-packages (from pydantic<3,>=1->langchain-core<0.2.0,>=0.1.46->langchain-openai) (0.6.0)\n",
      "Requirement already satisfied: pydantic-core==2.18.2 in /home/kaushik/miniconda3/envs/py3_knowledge_graphs_rag_course/lib/python3.12/site-packages (from pydantic<3,>=1->langchain-core<0.2.0,>=0.1.46->langchain-openai) (2.18.2)\n",
      "Requirement already satisfied: charset-normalizer<4,>=2 in /home/kaushik/miniconda3/envs/py3_knowledge_graphs_rag_course/lib/python3.12/site-packages (from requests>=2.26.0->tiktoken<1,>=0.5.2->langchain-openai) (3.3.2)\n",
      "Requirement already satisfied: urllib3<3,>=1.21.1 in /home/kaushik/miniconda3/envs/py3_knowledge_graphs_rag_course/lib/python3.12/site-packages (from requests>=2.26.0->tiktoken<1,>=0.5.2->langchain-openai) (2.2.1)\n",
      "Note: you may need to restart the kernel to use updated packages.\n"
     ]
    }
   ],
   "source": [
    "%pip install langchain-openai"
   ]
  },
  {
   "cell_type": "code",
   "execution_count": 2,
   "metadata": {},
   "outputs": [
    {
     "name": "stdout",
     "output_type": "stream",
     "text": [
      "Requirement already satisfied: langchain in /home/kaushik/miniconda3/envs/py3_knowledge_graphs_rag_course/lib/python3.12/site-packages (0.1.19)\n",
      "Requirement already satisfied: PyYAML>=5.3 in /home/kaushik/miniconda3/envs/py3_knowledge_graphs_rag_course/lib/python3.12/site-packages (from langchain) (6.0.1)\n",
      "Requirement already satisfied: SQLAlchemy<3,>=1.4 in /home/kaushik/miniconda3/envs/py3_knowledge_graphs_rag_course/lib/python3.12/site-packages (from langchain) (2.0.29)\n",
      "Requirement already satisfied: aiohttp<4.0.0,>=3.8.3 in /home/kaushik/miniconda3/envs/py3_knowledge_graphs_rag_course/lib/python3.12/site-packages (from langchain) (3.9.5)\n",
      "Requirement already satisfied: dataclasses-json<0.7,>=0.5.7 in /home/kaushik/miniconda3/envs/py3_knowledge_graphs_rag_course/lib/python3.12/site-packages (from langchain) (0.6.5)\n",
      "Requirement already satisfied: langchain-community<0.1,>=0.0.38 in /home/kaushik/miniconda3/envs/py3_knowledge_graphs_rag_course/lib/python3.12/site-packages (from langchain) (0.0.38)\n",
      "Requirement already satisfied: langchain-core<0.2.0,>=0.1.52 in /home/kaushik/miniconda3/envs/py3_knowledge_graphs_rag_course/lib/python3.12/site-packages (from langchain) (0.1.52)\n",
      "Requirement already satisfied: langchain-text-splitters<0.1,>=0.0.1 in /home/kaushik/miniconda3/envs/py3_knowledge_graphs_rag_course/lib/python3.12/site-packages (from langchain) (0.0.1)\n",
      "Requirement already satisfied: langsmith<0.2.0,>=0.1.17 in /home/kaushik/miniconda3/envs/py3_knowledge_graphs_rag_course/lib/python3.12/site-packages (from langchain) (0.1.52)\n",
      "Requirement already satisfied: numpy<2,>=1 in /home/kaushik/miniconda3/envs/py3_knowledge_graphs_rag_course/lib/python3.12/site-packages (from langchain) (1.26.4)\n",
      "Requirement already satisfied: pydantic<3,>=1 in /home/kaushik/miniconda3/envs/py3_knowledge_graphs_rag_course/lib/python3.12/site-packages (from langchain) (2.7.1)\n",
      "Requirement already satisfied: requests<3,>=2 in /home/kaushik/miniconda3/envs/py3_knowledge_graphs_rag_course/lib/python3.12/site-packages (from langchain) (2.31.0)\n",
      "Requirement already satisfied: tenacity<9.0.0,>=8.1.0 in /home/kaushik/miniconda3/envs/py3_knowledge_graphs_rag_course/lib/python3.12/site-packages (from langchain) (8.2.3)\n",
      "Requirement already satisfied: aiosignal>=1.1.2 in /home/kaushik/miniconda3/envs/py3_knowledge_graphs_rag_course/lib/python3.12/site-packages (from aiohttp<4.0.0,>=3.8.3->langchain) (1.3.1)\n",
      "Requirement already satisfied: attrs>=17.3.0 in /home/kaushik/miniconda3/envs/py3_knowledge_graphs_rag_course/lib/python3.12/site-packages (from aiohttp<4.0.0,>=3.8.3->langchain) (23.2.0)\n",
      "Requirement already satisfied: frozenlist>=1.1.1 in /home/kaushik/miniconda3/envs/py3_knowledge_graphs_rag_course/lib/python3.12/site-packages (from aiohttp<4.0.0,>=3.8.3->langchain) (1.4.1)\n",
      "Requirement already satisfied: multidict<7.0,>=4.5 in /home/kaushik/miniconda3/envs/py3_knowledge_graphs_rag_course/lib/python3.12/site-packages (from aiohttp<4.0.0,>=3.8.3->langchain) (6.0.5)\n",
      "Requirement already satisfied: yarl<2.0,>=1.0 in /home/kaushik/miniconda3/envs/py3_knowledge_graphs_rag_course/lib/python3.12/site-packages (from aiohttp<4.0.0,>=3.8.3->langchain) (1.9.4)\n",
      "Requirement already satisfied: marshmallow<4.0.0,>=3.18.0 in /home/kaushik/miniconda3/envs/py3_knowledge_graphs_rag_course/lib/python3.12/site-packages (from dataclasses-json<0.7,>=0.5.7->langchain) (3.21.1)\n",
      "Requirement already satisfied: typing-inspect<1,>=0.4.0 in /home/kaushik/miniconda3/envs/py3_knowledge_graphs_rag_course/lib/python3.12/site-packages (from dataclasses-json<0.7,>=0.5.7->langchain) (0.9.0)\n",
      "Requirement already satisfied: jsonpatch<2.0,>=1.33 in /home/kaushik/miniconda3/envs/py3_knowledge_graphs_rag_course/lib/python3.12/site-packages (from langchain-core<0.2.0,>=0.1.52->langchain) (1.33)\n",
      "Requirement already satisfied: packaging<24.0,>=23.2 in /home/kaushik/miniconda3/envs/py3_knowledge_graphs_rag_course/lib/python3.12/site-packages (from langchain-core<0.2.0,>=0.1.52->langchain) (23.2)\n",
      "Requirement already satisfied: orjson<4.0.0,>=3.9.14 in /home/kaushik/miniconda3/envs/py3_knowledge_graphs_rag_course/lib/python3.12/site-packages (from langsmith<0.2.0,>=0.1.17->langchain) (3.10.2)\n",
      "Requirement already satisfied: annotated-types>=0.4.0 in /home/kaushik/miniconda3/envs/py3_knowledge_graphs_rag_course/lib/python3.12/site-packages (from pydantic<3,>=1->langchain) (0.6.0)\n",
      "Requirement already satisfied: pydantic-core==2.18.2 in /home/kaushik/miniconda3/envs/py3_knowledge_graphs_rag_course/lib/python3.12/site-packages (from pydantic<3,>=1->langchain) (2.18.2)\n",
      "Requirement already satisfied: typing-extensions>=4.6.1 in /home/kaushik/miniconda3/envs/py3_knowledge_graphs_rag_course/lib/python3.12/site-packages (from pydantic<3,>=1->langchain) (4.11.0)\n",
      "Requirement already satisfied: charset-normalizer<4,>=2 in /home/kaushik/miniconda3/envs/py3_knowledge_graphs_rag_course/lib/python3.12/site-packages (from requests<3,>=2->langchain) (3.3.2)\n",
      "Requirement already satisfied: idna<4,>=2.5 in /home/kaushik/miniconda3/envs/py3_knowledge_graphs_rag_course/lib/python3.12/site-packages (from requests<3,>=2->langchain) (3.7)\n",
      "Requirement already satisfied: urllib3<3,>=1.21.1 in /home/kaushik/miniconda3/envs/py3_knowledge_graphs_rag_course/lib/python3.12/site-packages (from requests<3,>=2->langchain) (2.2.1)\n",
      "Requirement already satisfied: certifi>=2017.4.17 in /home/kaushik/miniconda3/envs/py3_knowledge_graphs_rag_course/lib/python3.12/site-packages (from requests<3,>=2->langchain) (2024.2.2)\n",
      "Requirement already satisfied: greenlet!=0.4.17 in /home/kaushik/miniconda3/envs/py3_knowledge_graphs_rag_course/lib/python3.12/site-packages (from SQLAlchemy<3,>=1.4->langchain) (3.0.3)\n",
      "Requirement already satisfied: jsonpointer>=1.9 in /home/kaushik/miniconda3/envs/py3_knowledge_graphs_rag_course/lib/python3.12/site-packages (from jsonpatch<2.0,>=1.33->langchain-core<0.2.0,>=0.1.52->langchain) (2.4)\n",
      "Requirement already satisfied: mypy-extensions>=0.3.0 in /home/kaushik/miniconda3/envs/py3_knowledge_graphs_rag_course/lib/python3.12/site-packages (from typing-inspect<1,>=0.4.0->dataclasses-json<0.7,>=0.5.7->langchain) (1.0.0)\n",
      "Note: you may need to restart the kernel to use updated packages.\n"
     ]
    }
   ],
   "source": [
    "%pip install langchain"
   ]
  },
  {
   "cell_type": "code",
   "execution_count": 3,
   "metadata": {},
   "outputs": [],
   "source": [
    "from dotenv import load_dotenv\n",
    "import os\n",
    "\n",
    "# Common data processing\n",
    "import json\n",
    "import textwrap\n",
    "\n",
    "# LangChain\n",
    "from langchain_community.graphs import Neo4jGraph\n",
    "from langchain_community.vectorstores import Neo4jVector\n",
    "from langchain_openai import OpenAIEmbeddings\n",
    "from langchain.text_splitter import RecursiveCharacterTextSplitter\n",
    "from langchain.chains import RetrievalQAWithSourcesChain\n",
    "from langchain_openai import ChatOpenAI"
   ]
  },
  {
   "cell_type": "code",
   "execution_count": 4,
   "metadata": {},
   "outputs": [],
   "source": [
    "# Warnings control\n",
    "import warnings\n",
    "\n",
    "warnings.filterwarnings(\"ignore\")"
   ]
  },
  {
   "cell_type": "markdown",
   "metadata": {},
   "source": [
    "Load from environment"
   ]
  },
  {
   "cell_type": "code",
   "execution_count": 5,
   "metadata": {},
   "outputs": [],
   "source": [
    "load_dotenv(\".env\", override=True)\n",
    "\n",
    "NEO4J_URI = os.getenv(\"NEO4J_URI\")\n",
    "NEO4J_USERNAME = os.getenv(\"NEO4J_USERNAME\")\n",
    "NEO4J_PASSWORD = os.getenv(\"NEO4J_PASSWORD\")\n",
    "NEO4J_DATABASE = os.getenv(\"NEO4J_DATABASE\") or \"neo4j\"\n",
    "OPENAI_API_KEY = os.getenv(\"OPENAI_API_KEY\")"
   ]
  },
  {
   "cell_type": "markdown",
   "metadata": {},
   "source": [
    "Global constants"
   ]
  },
  {
   "cell_type": "code",
   "execution_count": 6,
   "metadata": {},
   "outputs": [],
   "source": [
    "VECTOR_INDEX_NAME = 'form_10k_chunks'\n",
    "VECTOR_NODE_LABEL = 'Chunk'\n",
    "VECTOR_SOURCE_PROPERTY = 'text'\n",
    "VECTOR_EMBEDDING_PROPERTY = 'textEmbedding'"
   ]
  },
  {
   "cell_type": "markdown",
   "metadata": {},
   "source": [
    "### Take a look at a Form 10-K json file\n",
    "\n",
    "- Publicly traded companies are required to fill a form 10-K each year with the Securities and Exchange Commision (SEC)\n",
    "- You can search these filings using the SEC's [EDGAR database](https://www.sec.gov/edgar/search/)\n",
    "- For the next few lessons, you'll work with a single 10-K form for a company called [NetApp](https://www.netapp.com/)"
   ]
  },
  {
   "cell_type": "code",
   "execution_count": 7,
   "metadata": {},
   "outputs": [],
   "source": [
    "first_file_name = \"./data/form10k/0000950170-23-027948.json\""
   ]
  },
  {
   "cell_type": "code",
   "execution_count": 8,
   "metadata": {},
   "outputs": [],
   "source": [
    "first_file_as_object = json.load(open(first_file_name))"
   ]
  },
  {
   "cell_type": "code",
   "execution_count": 9,
   "metadata": {},
   "outputs": [
    {
     "data": {
      "text/plain": [
       "dict"
      ]
     },
     "execution_count": 9,
     "metadata": {},
     "output_type": "execute_result"
    }
   ],
   "source": [
    "type(first_file_as_object)"
   ]
  },
  {
   "cell_type": "markdown",
   "metadata": {},
   "source": [
    "Print the keys and value types"
   ]
  },
  {
   "cell_type": "code",
   "execution_count": 10,
   "metadata": {},
   "outputs": [
    {
     "name": "stdout",
     "output_type": "stream",
     "text": [
      "item1 <class 'str'>\n",
      "item1a <class 'str'>\n",
      "item7 <class 'str'>\n",
      "item7a <class 'str'>\n",
      "cik <class 'str'>\n",
      "cusip6 <class 'str'>\n",
      "cusip <class 'list'>\n",
      "names <class 'list'>\n",
      "source <class 'str'>\n"
     ]
    }
   ],
   "source": [
    "for k, v in first_file_as_object.items():\n",
    "    print(k, type(v))"
   ]
  },
  {
   "cell_type": "code",
   "execution_count": 11,
   "metadata": {},
   "outputs": [],
   "source": [
    "item1_text = first_file_as_object[\"item1\"]"
   ]
  },
  {
   "cell_type": "code",
   "execution_count": 12,
   "metadata": {},
   "outputs": [
    {
     "data": {
      "text/plain": [
       "397359"
      ]
     },
     "execution_count": 12,
     "metadata": {},
     "output_type": "execute_result"
    }
   ],
   "source": [
    "len(item1_text)"
   ]
  },
  {
   "cell_type": "markdown",
   "metadata": {},
   "source": [
    "Take a peek into this text"
   ]
  },
  {
   "cell_type": "code",
   "execution_count": 13,
   "metadata": {},
   "outputs": [
    {
     "data": {
      "text/plain": [
       "'>Item 1.  \\nBusiness\\n\\n\\nOverview\\n\\n\\nNetApp, Inc. (NetApp, we, us or the Company) is a global cloud-led, data-centric software company. We were incorporated in 1992 and are headquartered in San Jose, California. Building on more than three decades of innovation, we give customers the freedom to manage applications and data across hybrid multicloud environments. Our portfolio of cloud services, and storage infrastructure, powered by intelligent data management software, enables applications to run faster, more reliably, and more securely, all at a lower cost.\\n\\n\\nOur opportunity is defined by the durable megatrends of data-driven digital and cloud transformations. NetApp helps organizations meet the complexities created by rapid data and cloud growth, multi-cloud management, and the adoption of next-generation technologies, such as AI, Kubernetes, and modern databases. Our modern approach to hybrid, multicloud infrastructure and data management, which we term ‘evolved cloud’, provides customers the ability to leverage data across their entire estate with simplicity, security, and sustainability which increases our relevance and value to our customers.\\n\\n\\nIn an evolved cloud state, the cloud is fully integrated into an organization’s architecture and operations. Data centers and clouds are seamlessly united and hybrid multicloud operations are simplified, with consistency and observability across environments. The key benefits NetApp brings to an organization’s hybrid multicloud envir'"
      ]
     },
     "execution_count": 13,
     "metadata": {},
     "output_type": "execute_result"
    }
   ],
   "source": [
    "item1_text[:1500]"
   ]
  },
  {
   "cell_type": "markdown",
   "metadata": {},
   "source": [
    "### Split Form 10-K sections into chunks\n",
    "\n",
    "- Set up text splitter using LangChain\n",
    "- For now, split only the text from the \"item 1\" section "
   ]
  },
  {
   "cell_type": "code",
   "execution_count": 14,
   "metadata": {},
   "outputs": [],
   "source": [
    "text_splitter = RecursiveCharacterTextSplitter(\n",
    "    chunk_size=2000,\n",
    "    chunk_overlap=200,\n",
    "    length_function=len,\n",
    "    is_separator_regex=False\n",
    ")"
   ]
  },
  {
   "cell_type": "code",
   "execution_count": 15,
   "metadata": {},
   "outputs": [],
   "source": [
    "item1_text_chunks = text_splitter.split_text(item1_text)"
   ]
  },
  {
   "cell_type": "code",
   "execution_count": 16,
   "metadata": {},
   "outputs": [
    {
     "data": {
      "text/plain": [
       "list"
      ]
     },
     "execution_count": 16,
     "metadata": {},
     "output_type": "execute_result"
    }
   ],
   "source": [
    "type(item1_text_chunks)"
   ]
  },
  {
   "cell_type": "code",
   "execution_count": 17,
   "metadata": {},
   "outputs": [
    {
     "data": {
      "text/plain": [
       "254"
      ]
     },
     "execution_count": 17,
     "metadata": {},
     "output_type": "execute_result"
    }
   ],
   "source": [
    "len(item1_text_chunks)"
   ]
  },
  {
   "cell_type": "code",
   "execution_count": 18,
   "metadata": {},
   "outputs": [
    {
     "data": {
      "text/plain": [
       "'>Item 1.  \\nBusiness\\n\\n\\nOverview\\n\\n\\nNetApp, Inc. (NetApp, we, us or the Company) is a global cloud-led, data-centric software company. We were incorporated in 1992 and are headquartered in San Jose, California. Building on more than three decades of innovation, we give customers the freedom to manage applications and data across hybrid multicloud environments. Our portfolio of cloud services, and storage infrastructure, powered by intelligent data management software, enables applications to run faster, more reliably, and more securely, all at a lower cost.\\n\\n\\nOur opportunity is defined by the durable megatrends of data-driven digital and cloud transformations. NetApp helps organizations meet the complexities created by rapid data and cloud growth, multi-cloud management, and the adoption of next-generation technologies, such as AI, Kubernetes, and modern databases. Our modern approach to hybrid, multicloud infrastructure and data management, which we term ‘evolved cloud’, provides customers the ability to leverage data across their entire estate with simplicity, security, and sustainability which increases our relevance and value to our customers.\\n\\n\\nIn an evolved cloud state, the cloud is fully integrated into an organization’s architecture and operations. Data centers and clouds are seamlessly united and hybrid multicloud operations are simplified, with consistency and observability across environments. The key benefits NetApp brings to an organization’s hybrid multicloud environment are:\\n\\n\\n•\\nOperational simplicity: NetApp’s use of open source, open architectures and APIs, microservices, and common capabilities and data services facilitate the creation of applications that can run anywhere.\\n\\n\\n•\\nFlexibility and consistency: NetApp makes moving data and applications between environments seamless through a common storage foundation across on-premises and multicloud environments.'"
      ]
     },
     "execution_count": 18,
     "metadata": {},
     "output_type": "execute_result"
    }
   ],
   "source": [
    "item1_text_chunks[0]"
   ]
  },
  {
   "cell_type": "markdown",
   "metadata": {},
   "source": [
    "- Set up helper function to chunk all sections of the Form 10-K\n",
    "- You'll limit the number of chunks in each section to 20 to speed things up"
   ]
  },
  {
   "cell_type": "code",
   "execution_count": 19,
   "metadata": {},
   "outputs": [],
   "source": [
    "def split_form10k_data_from_file(file):\n",
    "    chunks_with_metadata = []  # use this to accumulate chunk records\n",
    "    # Load the json file\n",
    "    file_as_object = json.load(open(file))\n",
    "    # Extract form id from file name\n",
    "    form_id = file[file.rindex(\"/\")+1: file.rindex(\".\")]\n",
    "\n",
    "    for item in [\"item1\", \"item1a\", \"item7\", \"item7a\"]:  # pull these keys from the json\n",
    "        print(f\"Processing {item} from {file}\")\n",
    "        # Grab the text of the item\n",
    "        item_text = file_as_object[item]\n",
    "        # Split the text into chunks\n",
    "        item_text_chunks = text_splitter.split_text(item_text)\n",
    "        # Iterate over the first 20 chunks\n",
    "        chunk_seq_id = 0\n",
    "        for chunk in item1_text_chunks[:20]:\n",
    "            # Construct a record with metadata and chunk text\n",
    "            chunks_with_metadata.append({\n",
    "                \"text\": chunk,\n",
    "                # metadata from looping\n",
    "                \"f10kItem\": item,\n",
    "                \"chunkSeqId\": chunk_seq_id,\n",
    "                # constructed metadata\n",
    "                \"formId\": f\"{form_id}\",  # pulled from the filename\n",
    "                \"chunkId\": f\"{form_id}-{item}-chunk{chunk_seq_id:04d}\",\n",
    "                # metadata from file\n",
    "                \"names\": file_as_object[\"names\"],\n",
    "                \"cik\": file_as_object[\"cik\"],\n",
    "                \"cusip6\": file_as_object[\"cusip6\"],\n",
    "                \"source\": file_as_object[\"source\"]\n",
    "            })\n",
    "            chunk_seq_id += 1\n",
    "        \n",
    "        print(f\"Split into {chunk_seq_id} chunks\")\n",
    "    \n",
    "    return chunks_with_metadata"
   ]
  },
  {
   "cell_type": "code",
   "execution_count": 20,
   "metadata": {},
   "outputs": [
    {
     "name": "stdout",
     "output_type": "stream",
     "text": [
      "Processing item1 from ./data/form10k/0000950170-23-027948.json\n",
      "Split into 20 chunks\n",
      "Processing item1a from ./data/form10k/0000950170-23-027948.json\n",
      "Split into 20 chunks\n",
      "Processing item7 from ./data/form10k/0000950170-23-027948.json\n",
      "Split into 20 chunks\n",
      "Processing item7a from ./data/form10k/0000950170-23-027948.json\n",
      "Split into 20 chunks\n"
     ]
    }
   ],
   "source": [
    "first_file_chunks = split_form10k_data_from_file(file=first_file_name)"
   ]
  },
  {
   "cell_type": "code",
   "execution_count": 21,
   "metadata": {},
   "outputs": [
    {
     "data": {
      "text/plain": [
       "{'text': '>Item 1.  \\nBusiness\\n\\n\\nOverview\\n\\n\\nNetApp, Inc. (NetApp, we, us or the Company) is a global cloud-led, data-centric software company. We were incorporated in 1992 and are headquartered in San Jose, California. Building on more than three decades of innovation, we give customers the freedom to manage applications and data across hybrid multicloud environments. Our portfolio of cloud services, and storage infrastructure, powered by intelligent data management software, enables applications to run faster, more reliably, and more securely, all at a lower cost.\\n\\n\\nOur opportunity is defined by the durable megatrends of data-driven digital and cloud transformations. NetApp helps organizations meet the complexities created by rapid data and cloud growth, multi-cloud management, and the adoption of next-generation technologies, such as AI, Kubernetes, and modern databases. Our modern approach to hybrid, multicloud infrastructure and data management, which we term ‘evolved cloud’, provides customers the ability to leverage data across their entire estate with simplicity, security, and sustainability which increases our relevance and value to our customers.\\n\\n\\nIn an evolved cloud state, the cloud is fully integrated into an organization’s architecture and operations. Data centers and clouds are seamlessly united and hybrid multicloud operations are simplified, with consistency and observability across environments. The key benefits NetApp brings to an organization’s hybrid multicloud environment are:\\n\\n\\n•\\nOperational simplicity: NetApp’s use of open source, open architectures and APIs, microservices, and common capabilities and data services facilitate the creation of applications that can run anywhere.\\n\\n\\n•\\nFlexibility and consistency: NetApp makes moving data and applications between environments seamless through a common storage foundation across on-premises and multicloud environments.',\n",
       " 'f10kItem': 'item1',\n",
       " 'chunkSeqId': 0,\n",
       " 'formId': '0000950170-23-027948',\n",
       " 'chunkId': '0000950170-23-027948-item1-chunk0000',\n",
       " 'names': ['Netapp Inc', 'NETAPP INC'],\n",
       " 'cik': '1002047',\n",
       " 'cusip6': '64110D',\n",
       " 'source': 'https://www.sec.gov/Archives/edgar/data/1002047/000095017023027948/0000950170-23-027948-index.htm'}"
      ]
     },
     "execution_count": 21,
     "metadata": {},
     "output_type": "execute_result"
    }
   ],
   "source": [
    "first_file_chunks[0]"
   ]
  },
  {
   "cell_type": "code",
   "execution_count": 22,
   "metadata": {},
   "outputs": [
    {
     "data": {
      "text/plain": [
       "{'text': \"•\\nFlexibility and consistency: NetApp makes moving data and applications between environments seamless through a common storage foundation across on-premises and multicloud environments.\\n\\n\\n•\\nCyber resilience: NetApp unifies monitoring, data protection, security, governance, and compliance for total cyber resilience - with consistency and automation across environments. \\n\\n\\n•\\nContinuous operations: NetApp uses AI-driven automation for continuous optimization to service applications and store stateless and stateful applications at the lowest possible costs.\\n\\n\\n•\\nSustainability: NetApp has industry-leading tools to audit consumption, locate waste, and set guardrails to stop overprovisioning.\\n\\n\\nProduct, Solutions and Services Portfolio\\n \\n\\n\\nNetApp's portfolio of cloud services and storage infrastructure is powered by intelligent data management software. Our operations are organized into two segments: Hybrid Cloud and Public Cloud.\\n\\n\\n \\n\\n\\nHybrid Cloud\\n\\n\\nHybrid Cloud \\noffers a portfolio of storage management and infrastructure solutions that help customers recast their traditional data centers into modern data centers with the power of the cloud. Our hybrid cloud portfolio is designed to operate with public clouds to unlock the potential of hybrid, multi-cloud operations. We offer a broad portfolio of cloud-connected all-flash, hybrid-flash, and object storage systems, powered by intelligent data management software. Hybrid Cloud is composed of software, hardware, and related support, as well as professional and other services.\\n\\n\\nIntelligent data management software\",\n",
       " 'f10kItem': 'item1',\n",
       " 'chunkSeqId': 1,\n",
       " 'formId': '0000950170-23-027948',\n",
       " 'chunkId': '0000950170-23-027948-item1-chunk0001',\n",
       " 'names': ['Netapp Inc', 'NETAPP INC'],\n",
       " 'cik': '1002047',\n",
       " 'cusip6': '64110D',\n",
       " 'source': 'https://www.sec.gov/Archives/edgar/data/1002047/000095017023027948/0000950170-23-027948-index.htm'}"
      ]
     },
     "execution_count": 22,
     "metadata": {},
     "output_type": "execute_result"
    }
   ],
   "source": [
    "first_file_chunks[1]"
   ]
  },
  {
   "cell_type": "markdown",
   "metadata": {},
   "source": [
    "### Create graph nodes using text chunks "
   ]
  },
  {
   "cell_type": "code",
   "execution_count": 23,
   "metadata": {},
   "outputs": [],
   "source": [
    "merge_chunk_node_query = \"\"\"\n",
    "    MERGE(mergedChunk:Chunk {chunkId: $chunkParam.chunkId})\n",
    "    ON CREATE SET\n",
    "        mergedChunk.names = $chunkParam.names,\n",
    "        mergedChunk.formId = $chunkParam.formId,\n",
    "        mergedChunk.cik = $chunkParam.cik,\n",
    "        mergedChunk.cusip6 = $chunkParam.cusip6,\n",
    "        mergedChunk.source = $chunkParam.source,\n",
    "        mergedChunk.f10kItem = $chunkParam.f10kItem,\n",
    "        mergedChunk.chunkSeqId = $chunkParam.chunkSeqId,\n",
    "        mergedChunk.text = $chunkParam.text\n",
    "    RETURN mergedChunk\n",
    "\"\"\""
   ]
  },
  {
   "cell_type": "markdown",
   "metadata": {},
   "source": [
    "- Set up connection to graph instance using LangChain"
   ]
  },
  {
   "cell_type": "code",
   "execution_count": 24,
   "metadata": {},
   "outputs": [],
   "source": [
    "kg = Neo4jGraph(url=NEO4J_URI, username=NEO4J_USERNAME, password=NEO4J_PASSWORD, database=NEO4J_DATABASE)"
   ]
  },
  {
   "cell_type": "markdown",
   "metadata": {},
   "source": [
    "- Create a single chunk node for now"
   ]
  },
  {
   "cell_type": "code",
   "execution_count": 25,
   "metadata": {},
   "outputs": [
    {
     "data": {
      "text/plain": [
       "[{'mergedChunk': {'formId': '0000950170-23-027948',\n",
       "   'f10kItem': 'item1',\n",
       "   'names': ['Netapp Inc', 'NETAPP INC'],\n",
       "   'cik': '1002047',\n",
       "   'textEmbedding': [-0.017124786972999573,\n",
       "    -0.01839623413980007,\n",
       "    0.016224179416894913,\n",
       "    -0.02597193233668804,\n",
       "    -0.007098906673491001,\n",
       "    0.013178007677197456,\n",
       "    -0.0042050424963235855,\n",
       "    -0.012926367111504078,\n",
       "    -0.003082594135776162,\n",
       "    -0.03697788715362549,\n",
       "    0.015800364315509796,\n",
       "    0.013853463344275951,\n",
       "    0.013773998245596886,\n",
       "    -0.013423025608062744,\n",
       "    0.002726655686274171,\n",
       "    0.004479860421270132,\n",
       "    0.015032199211418629,\n",
       "    -0.02926974557340145,\n",
       "    -0.01500571146607399,\n",
       "    -0.0215351153165102,\n",
       "    -0.031335845589637756,\n",
       "    0.010575516149401665,\n",
       "    0.00021335625206120312,\n",
       "    -0.006423451006412506,\n",
       "    -0.015508991666138172,\n",
       "    -0.010827156715095043,\n",
       "    0.004089155700057745,\n",
       "    -0.015442770905792713,\n",
       "    0.019469015300273895,\n",
       "    -0.004453371744602919,\n",
       "    0.008635236881673336,\n",
       "    -0.020012030377984047,\n",
       "    -0.007999514229595661,\n",
       "    -0.006483050063252449,\n",
       "    -0.008085601963102818,\n",
       "    0.004175242967903614,\n",
       "    0.0023044957779347897,\n",
       "    -0.015919562429189682,\n",
       "    0.026170596480369568,\n",
       "    -0.012091980315744877,\n",
       "    0.013694532215595245,\n",
       "    -0.015363304875791073,\n",
       "    -0.007741251494735479,\n",
       "    0.0032878797501325607,\n",
       "    -0.015654677525162697,\n",
       "    0.008231287822127342,\n",
       "    -0.014171324670314789,\n",
       "    0.00772800762206316,\n",
       "    0.014118347316980362,\n",
       "    0.014873269014060497,\n",
       "    0.0039765797555446625,\n",
       "    0.028845930472016335,\n",
       "    -0.03001142293214798,\n",
       "    -0.013668043538928032,\n",
       "    0.008787545375525951,\n",
       "    -0.003946780227124691,\n",
       "    -0.028528068214654922,\n",
       "    0.006257898174226284,\n",
       "    0.004774544388055801,\n",
       "    -0.013932928442955017,\n",
       "    0.002178675727918744,\n",
       "    0.021879466250538826,\n",
       "    -0.018647873774170876,\n",
       "    -0.00033131265081465244,\n",
       "    -0.03716330602765083,\n",
       "    -0.032978128641843796,\n",
       "    -0.03099149465560913,\n",
       "    0.00944975670427084,\n",
       "    -0.01350249070674181,\n",
       "    0.019906075671315193,\n",
       "    0.032819200307130814,\n",
       "    0.03803742304444313,\n",
       "    0.013641555793583393,\n",
       "    -0.0023740280885249376,\n",
       "    -0.011476123705506325,\n",
       "    -0.006986330728977919,\n",
       "    -0.002559447195380926,\n",
       "    0.004781166557222605,\n",
       "    -0.006999575067311525,\n",
       "    0.02431640401482582,\n",
       "    -0.01574738696217537,\n",
       "    -0.01629040203988552,\n",
       "    0.022766828536987305,\n",
       "    -0.020528554916381836,\n",
       "    0.024369381368160248,\n",
       "    0.009668286889791489,\n",
       "    -0.0022233747877180576,\n",
       "    0.01298596616834402,\n",
       "    0.012416464276611805,\n",
       "    0.0027812879998236895,\n",
       "    0.017349939793348312,\n",
       "    0.014873269014060497,\n",
       "    0.01659501902759075,\n",
       "    0.008502794429659843,\n",
       "    -0.015787120908498764,\n",
       "    0.04254046082496643,\n",
       "    0.009933171793818474,\n",
       "    0.02039611153304577,\n",
       "    0.007986269891262054,\n",
       "    -0.02574678137898445,\n",
       "    0.00384413730353117,\n",
       "    0.016846658661961555,\n",
       "    -0.02692551724612713,\n",
       "    -0.01275419257581234,\n",
       "    -0.023693924769759178,\n",
       "    -0.010926488786935806,\n",
       "    0.014078615233302116,\n",
       "    -0.01725723035633564,\n",
       "    0.035309113562107086,\n",
       "    -0.00020880353986285627,\n",
       "    -0.011615188792347908,\n",
       "    -0.003804404754191637,\n",
       "    0.0017730711260810494,\n",
       "    -0.023813122883439064,\n",
       "    0.003382244845852256,\n",
       "    -0.019084934145212173,\n",
       "    0.01597253978252411,\n",
       "    0.007072417996823788,\n",
       "    0.010999332182109356,\n",
       "    -0.00514207175001502,\n",
       "    0.011012576520442963,\n",
       "    0.037613607943058014,\n",
       "    0.009966282173991203,\n",
       "    -0.016237424686551094,\n",
       "    -0.004420261364430189,\n",
       "    0.00022722130233887583,\n",
       "    -0.026144107803702354,\n",
       "    -0.03358736261725426,\n",
       "    0.016528798267245293,\n",
       "    -0.009138518013060093,\n",
       "    0.01770753413438797,\n",
       "    0.010131835006177425,\n",
       "    0.0025942132342606783,\n",
       "    -0.004979829769581556,\n",
       "    -0.023879343643784523,\n",
       "    0.0017399605130776763,\n",
       "    -0.010403341613709927,\n",
       "    0.0004391289548948407,\n",
       "    -0.023468773812055588,\n",
       "    -0.017575090751051903,\n",
       "    0.023018470034003258,\n",
       "    0.015138152986764908,\n",
       "    -0.007900182157754898,\n",
       "    -0.013840219005942345,\n",
       "    -0.005747995339334011,\n",
       "    0.01876707188785076,\n",
       "    0.021270230412483215,\n",
       "    0.03501773998141289,\n",
       "    0.021111300215125084,\n",
       "    0.00799289159476757,\n",
       "    0.014528919011354446,\n",
       "    -0.018661119043827057,\n",
       "    -0.017588336020708084,\n",
       "    -0.007595565170049667,\n",
       "    0.00948948971927166,\n",
       "    -0.0017200942384079099,\n",
       "    -0.005340735428035259,\n",
       "    0.005324179772287607,\n",
       "    -0.011529101058840752,\n",
       "    -0.001779693178832531,\n",
       "    -0.0035825639497488737,\n",
       "    0.022170837968587875,\n",
       "    0.00011837029160233214,\n",
       "    -0.026382504031062126,\n",
       "    -0.008794168010354042,\n",
       "    0.02296549268066883,\n",
       "    0.008562393486499786,\n",
       "    -0.014144835993647575,\n",
       "    0.006979708559811115,\n",
       "    -0.010701336897909641,\n",
       "    -0.0003000645665451884,\n",
       "    0.012237667106091976,\n",
       "    -0.034858811646699905,\n",
       "    0.007151883561164141,\n",
       "    0.0006336535443551838,\n",
       "    0.006294319871813059,\n",
       "    0.01489975769072771,\n",
       "    0.02783936820924282,\n",
       "    -0.02460777759552002,\n",
       "    -0.01912466622889042,\n",
       "    0.040924668312072754,\n",
       "    -0.0030296172481030226,\n",
       "    0.009933171793818474,\n",
       "    0.0023806500248610973,\n",
       "    0.009966282173991203,\n",
       "    -0.0012805513106286526,\n",
       "    0.022448968142271042,\n",
       "    0.007482989225536585,\n",
       "    0.008039247244596481,\n",
       "    0.006161877419799566,\n",
       "    0.0013476002495735884,\n",
       "    0.0013922995422035456,\n",
       "    -0.025601094588637352,\n",
       "    -0.004377217497676611,\n",
       "    -0.6327562928199768,\n",
       "    -0.010886755771934986,\n",
       "    0.011409902945160866,\n",
       "    -0.03819635510444641,\n",
       "    -0.022011907771229744,\n",
       "    0.007092284504324198,\n",
       "    0.028104253113269806,\n",
       "    -0.0029335967265069485,\n",
       "    0.0012863456504419446,\n",
       "    0.02332308702170849,\n",
       "    -0.011264216154813766,\n",
       "    0.009734507650136948,\n",
       "    -0.010039125569164753,\n",
       "    -0.009217983111739159,\n",
       "    -0.02116427756845951,\n",
       "    -0.016859903931617737,\n",
       "    -0.009588821791112423,\n",
       "    -0.014687849208712578,\n",
       "    0.01696585677564144,\n",
       "    -0.021217254921793938,\n",
       "    -0.03742818906903267,\n",
       "    0.020833171904087067,\n",
       "    0.002107487991452217,\n",
       "    -0.04524228349328041,\n",
       "    -0.0028475092258304358,\n",
       "    0.013230984099209309,\n",
       "    0.025786513462662697,\n",
       "    0.022700607776641846,\n",
       "    -0.014184569008648396,\n",
       "    0.005549331661313772,\n",
       "    -0.03046172671020031,\n",
       "    0.020806683227419853,\n",
       "    0.02866051159799099,\n",
       "    -0.01316476333886385,\n",
       "    0.04492442309856415,\n",
       "    -0.0017813487211242318,\n",
       "    -0.013416403904557228,\n",
       "    0.04458007216453552,\n",
       "    0.0366070494055748,\n",
       "    0.015071932226419449,\n",
       "    -0.008986209519207478,\n",
       "    -0.006638669408857822,\n",
       "    0.011118530295789242,\n",
       "    -0.0012350243050605059,\n",
       "    -0.006900242995470762,\n",
       "    0.0075624543242156506,\n",
       "    0.015164641663432121,\n",
       "    -0.018250547349452972,\n",
       "    0.005863882135599852,\n",
       "    0.007284325547516346,\n",
       "    0.008112089708447456,\n",
       "    -0.020369622856378555,\n",
       "    -0.0029716738499701023,\n",
       "    -0.020462334156036377,\n",
       "    0.002130665350705385,\n",
       "    0.0010537439957261086,\n",
       "    0.005963213741779327,\n",
       "    -0.03189210221171379,\n",
       "    0.03197156637907028,\n",
       "    0.010476185008883476,\n",
       "    0.006118833553045988,\n",
       "    -0.010065613314509392,\n",
       "    -0.04187824949622154,\n",
       "    -0.021773511543869972,\n",
       "    -0.04103061929345131,\n",
       "    0.007337302900850773,\n",
       "    -0.0017283718334510922,\n",
       "    -0.011310570873320103,\n",
       "    0.02979951538145542,\n",
       "    -0.03806391358375549,\n",
       "    0.005747995339334011,\n",
       "    0.006006257608532906,\n",
       "    -0.008827278390526772,\n",
       "    -0.0013194562634453177,\n",
       "    0.039282381534576416,\n",
       "    0.023521749302744865,\n",
       "    0.023468773812055588,\n",
       "    0.01936306245625019,\n",
       "    -0.01867436245083809,\n",
       "    0.010257654823362827,\n",
       "    0.0023525061551481485,\n",
       "    -0.028607534244656563,\n",
       "    0.016462575644254684,\n",
       "    -0.03615674376487732,\n",
       "    0.017085054889321327,\n",
       "    0.027495019137859344,\n",
       "    0.00654595997184515,\n",
       "    -0.0028177096974104643,\n",
       "    0.00806573498994112,\n",
       "    -0.015164641663432121,\n",
       "    0.02295224741101265,\n",
       "    0.009986148215830326,\n",
       "    -0.009582199156284332,\n",
       "    -0.02791883423924446,\n",
       "    -0.0054731774143874645,\n",
       "    0.021217254921793938,\n",
       "    -0.025481896474957466,\n",
       "    0.00037125227390788496,\n",
       "    -0.02235625870525837,\n",
       "    -0.0033127127680927515,\n",
       "    0.002180331153795123,\n",
       "    -0.017204253003001213,\n",
       "    0.002370717003941536,\n",
       "    0.01177411898970604,\n",
       "    0.02116427756845951,\n",
       "    0.02259465493261814,\n",
       "    0.0014626594493165612,\n",
       "    0.010714581236243248,\n",
       "    0.038911543786525726,\n",
       "    -0.016369866207242012,\n",
       "    -0.013323694467544556,\n",
       "    -0.02296549268066883,\n",
       "    -0.03374629467725754,\n",
       "    0.006592314690351486,\n",
       "    -0.000398775446228683,\n",
       "    -0.029614094644784927,\n",
       "    0.03443499282002449,\n",
       "    -0.00431430758908391,\n",
       "    0.009105407632887363,\n",
       "    -0.015058687888085842,\n",
       "    -0.0028971750289201736,\n",
       "    -0.0071055288426578045,\n",
       "    0.006834021769464016,\n",
       "    0.007456500548869371,\n",
       "    -0.015734143555164337,\n",
       "    0.011509235017001629,\n",
       "    0.005916859023272991,\n",
       "    -0.027256622910499573,\n",
       "    -0.02746853046119213,\n",
       "    -0.014913001097738743,\n",
       "    -0.007443256676197052,\n",
       "    -0.016979102045297623,\n",
       "    0.029693560674786568,\n",
       "    0.0030445170123130083,\n",
       "    0.04646075516939163,\n",
       "    0.024740219116210938,\n",
       "    -0.006112211383879185,\n",
       "    -0.01822405867278576,\n",
       "    0.0076154316775500774,\n",
       "    -0.0371897928416729,\n",
       "    -0.029534630477428436,\n",
       "    -0.01050267368555069,\n",
       "    0.02124374359846115,\n",
       "    -0.011085418984293938,\n",
       "    -0.011972783133387566,\n",
       "    0.011946294456720352,\n",
       "    -0.01440972089767456,\n",
       "    -0.009760996326804161,\n",
       "    -0.0189922247081995,\n",
       "    0.004989763256162405,\n",
       "    -0.028792953118681908,\n",
       "    0.004069289192557335,\n",
       "    -0.0154162822291255,\n",
       "    0.025481896474957466,\n",
       "    0.01839623413980007,\n",
       "    -0.0028756530955433846,\n",
       "    -0.006794289220124483,\n",
       "    -0.03742818906903267,\n",
       "    -0.018131349235773087,\n",
       "    -0.027309600263834,\n",
       "    -0.014568651095032692,\n",
       "    0.016859903931617737,\n",
       "    -0.015336817130446434,\n",
       "    0.0007325714104808867,\n",
       "    -0.01658177375793457,\n",
       "    -0.011164885014295578,\n",
       "    -0.01882004924118519,\n",
       "    0.011237728409469128,\n",
       "    0.017283719033002853,\n",
       "    -0.01492624543607235,\n",
       "    -9.395124652655795e-05,\n",
       "    -0.012052248232066631,\n",
       "    0.001233368762768805,\n",
       "    0.004244775511324406,\n",
       "    -0.005893681664019823,\n",
       "    -0.007575698662549257,\n",
       "    0.0007151883328333497,\n",
       "    -0.016025517135858536,\n",
       "    0.035229649394750595,\n",
       "    -0.0154162822291255,\n",
       "    0.024342892691493034,\n",
       "    -0.014846780337393284,\n",
       "    -0.0018939246656373143,\n",
       "    -0.0004167793085798621,\n",
       "    0.036050789058208466,\n",
       "    0.00021335625206120312,\n",
       "    0.043917860835790634,\n",
       "    0.018343256786465645,\n",
       "    -0.0036554071120917797,\n",
       "    -0.004486482590436935,\n",
       "    -0.014595139771699905,\n",
       "    0.032527826726436615,\n",
       "    0.009860328398644924,\n",
       "    0.01024441048502922,\n",
       "    -0.019151154905557632,\n",
       "    -0.007694896776229143,\n",
       "    -0.006194987799972296,\n",
       "    0.011721142567694187,\n",
       "    0.015720900148153305,\n",
       "    0.014979222789406776,\n",
       "    -0.01582685299217701,\n",
       "    -0.0014088548487052321,\n",
       "    0.01069471426308155,\n",
       "    -0.005459933076053858,\n",
       "    0.011952916160225868,\n",
       "    -2.7859441615873948e-05,\n",
       "    0.006400273647159338,\n",
       "    -0.017747266218066216,\n",
       "    0.004075911361724138,\n",
       "    0.010118590667843819,\n",
       "    0.03557399660348892,\n",
       "    -0.0064962939359247684,\n",
       "    0.0022233747877180576,\n",
       "    -0.02850157953798771,\n",
       "    -0.004565947689116001,\n",
       "    0.016038760542869568,\n",
       "    0.011933050118386745,\n",
       "    0.010714581236243248,\n",
       "    -0.02685929648578167,\n",
       "    0.023084690794348717,\n",
       "    0.029322722926735878,\n",
       "    -0.011926427483558655,\n",
       "    0.00341370003297925,\n",
       "    -0.017138032242655754,\n",
       "    -0.007886937819421291,\n",
       "    0.00407260050997138,\n",
       "    0.01178074162453413,\n",
       "    0.038593683391809464,\n",
       "    -0.0070459297858178616,\n",
       "    -0.030859053134918213,\n",
       "    0.015654677525162697,\n",
       "    0.024051519110798836,\n",
       "    -0.004350729286670685,\n",
       "    0.00960206612944603,\n",
       "    0.02040935680270195,\n",
       "    0.012436330318450928,\n",
       "    0.005310935899615288,\n",
       "    -0.01807837188243866,\n",
       "    0.018104860559105873,\n",
       "    -0.011787363328039646,\n",
       "    0.008569016121327877,\n",
       "    0.02489914931356907,\n",
       "    0.03409064561128616,\n",
       "    -0.015601701103150845,\n",
       "    0.022607898339629173,\n",
       "    0.0038971141912043095,\n",
       "    0.01482029166072607,\n",
       "    0.017892953008413315,\n",
       "    -0.019071688875555992,\n",
       "    -0.03316354751586914,\n",
       "    -0.02123049832880497,\n",
       "    -0.00944975670427084,\n",
       "    0.015403037890791893,\n",
       "    -0.021111300215125084,\n",
       "    -0.007582320831716061,\n",
       "    -0.019614702090620995,\n",
       "    -0.010032502934336662,\n",
       "    0.005933414213359356,\n",
       "    0.02866051159799099,\n",
       "    0.00934380292892456,\n",
       "    0.00938353594392538,\n",
       "    -0.01451567467302084,\n",
       "    0.013879952020943165,\n",
       "    -0.007151883561164141,\n",
       "    0.031229890882968903,\n",
       "    -0.025839490815997124,\n",
       "    0.012522418051958084,\n",
       "    -0.015919562429189682,\n",
       "    -0.003476609941571951,\n",
       "    -0.02439587004482746,\n",
       "    0.005989702418446541,\n",
       "    -0.02341579645872116,\n",
       "    0.027812879532575607,\n",
       "    -0.008787545375525951,\n",
       "    -0.015641434118151665,\n",
       "    0.018475698307156563,\n",
       "    -0.004529525991529226,\n",
       "    -0.008979586884379387,\n",
       "    -0.008767679333686829,\n",
       "    0.007602187339216471,\n",
       "    -0.013317071832716465,\n",
       "    -0.013985905796289444,\n",
       "    0.0005566714680753648,\n",
       "    0.004767922218888998,\n",
       "    0.009701397269964218,\n",
       "    0.0024121052119880915,\n",
       "    -0.01981336623430252,\n",
       "    0.006728067994117737,\n",
       "    -0.012423086911439896,\n",
       "    0.017310207709670067,\n",
       "    -0.014979222789406776,\n",
       "    0.0022548299748450518,\n",
       "    -0.0003865659236907959,\n",
       "    0.010409963317215443,\n",
       "    -0.004297752398997545,\n",
       "    0.020886149257421494,\n",
       "    0.02775990404188633,\n",
       "    -0.012866768054664135,\n",
       "    0.003173648379743099,\n",
       "    -0.005324179772287607,\n",
       "    0.007443256676197052,\n",
       "    -0.003923602867871523,\n",
       "    0.004665279760956764,\n",
       "    0.005704951472580433,\n",
       "    0.038143377751111984,\n",
       "    -0.005291069392114878,\n",
       "    -0.004741434007883072,\n",
       "    -0.0007189132738858461,\n",
       "    -0.002658778801560402,\n",
       "    -0.008569016121327877,\n",
       "    0.00723797082901001,\n",
       "    -0.021429162472486496,\n",
       "    -0.02836913801729679,\n",
       "    0.007873693481087685,\n",
       "    0.008535905741155148,\n",
       "    -0.01674070581793785,\n",
       "    -0.02085966058075428,\n",
       "    -0.002498192712664604,\n",
       "    0.018634630367159843,\n",
       "    -0.0009618620970286429,\n",
       "    0.017058566212654114,\n",
       "    -0.04627533629536629,\n",
       "    -0.045348238199949265,\n",
       "    0.027110936120152473,\n",
       "    0.07061822712421417,\n",
       "    0.014197813346982002,\n",
       "    -0.009145139716565609,\n",
       "    0.020210692659020424,\n",
       "    -0.026448724791407585,\n",
       "    0.007906804792582989,\n",
       "    0.0018045261967927217,\n",
       "    -0.017667800188064575,\n",
       "    0.012793924659490585,\n",
       "    -0.012423086911439896,\n",
       "    -0.0054102675057947636,\n",
       "    0.007747873663902283,\n",
       "    0.0068009113892912865,\n",
       "    -0.030832564458251,\n",
       "    0.006112211383879185,\n",
       "    0.006440006196498871,\n",
       "    0.0008112090290524065,\n",
       "    0.002119076671078801,\n",
       "    -0.006052612327039242,\n",
       "    -0.021323207765817642,\n",
       "    -0.0002979951386805624,\n",
       "    -0.0009287515422329307,\n",
       "    0.0074763670563697815,\n",
       "    0.041533902287483215,\n",
       "    0.03226293995976448,\n",
       "    0.002713411347940564,\n",
       "    0.012774058617651463,\n",
       "    0.020608019083738327,\n",
       "    0.014502430334687233,\n",
       "    -0.026170596480369568,\n",
       "    -0.009297448210418224,\n",
       "    0.012244289740920067,\n",
       "    0.0028177096974104643,\n",
       "    0.002261452144011855,\n",
       "    -0.02056828700006008,\n",
       "    0.000598473590798676,\n",
       "    0.0014196158153936267,\n",
       "    0.0077611180022358894,\n",
       "    -0.0008447334403172135,\n",
       "    -0.0004027073155157268,\n",
       "    -0.00024170716642402112,\n",
       "    -0.008257776498794556,\n",
       "    0.02169404737651348,\n",
       "    -0.01711154356598854,\n",
       "    0.007218104787170887,\n",
       "    -0.006678402423858643,\n",
       "    0.020674241706728935,\n",
       "    0.032368894666433334,\n",
       "    -0.011178129352629185,\n",
       "    -0.01666123978793621,\n",
       "    3.8827318348921835e-05,\n",
       "    -0.012211178429424763,\n",
       "    -0.04934799671173096,\n",
       "    0.004115643911063671,\n",
       "    0.00278625451028347,\n",
       "    0.009641798213124275,\n",
       "    0.039653219282627106,\n",
       "    -0.00718499394133687,\n",
       "    -0.004910297691822052,\n",
       "    -0.04357351362705231,\n",
       "    -0.014754070900380611,\n",
       "    -0.014740826562047005,\n",
       "    -0.007357168942689896,\n",
       "    -0.02484617382287979,\n",
       "    0.0007441600901074708,\n",
       "    -0.024660753086209297,\n",
       "    -0.016979102045297623,\n",
       "    0.003536208998411894,\n",
       "    -0.013277338817715645,\n",
       "    0.000658072589430958,\n",
       "    -0.0023541615810245275,\n",
       "    -0.019866343587636948,\n",
       "    -0.03541506826877594,\n",
       "    0.029057838022708893,\n",
       "    0.03520315885543823,\n",
       "    0.003887181170284748,\n",
       "    -0.0053274910897016525,\n",
       "    0.006532715633511543,\n",
       "    -0.01159532181918621,\n",
       "    0.027786390855908394,\n",
       "    0.01260850578546524,\n",
       "    -0.00765516422688961,\n",
       "    -0.00562548590824008,\n",
       "    -0.04871227219700813,\n",
       "    0.008165067061781883,\n",
       "    -0.018740583211183548,\n",
       "    -0.0020942436531186104,\n",
       "    -0.005148693919181824,\n",
       "    -0.0326867550611496,\n",
       "    0.008416707627475262,\n",
       "    -0.0028541311621665955,\n",
       "    -0.0346469022333622,\n",
       "    0.038381773978471756,\n",
       "    0.014158080331981182,\n",
       "    0.0007238799007609487,\n",
       "    0.018780315294861794,\n",
       "    0.01981336623430252,\n",
       "    0.00016762227460276335,\n",
       "    -0.0045725698582828045,\n",
       "    -0.025760024785995483,\n",
       "    0.014913001097738743,\n",
       "    -0.010972843505442142,\n",
       "    -0.014197813346982002,\n",
       "    -0.029905468225479126,\n",
       "    0.03409064561128616,\n",
       "    0.01170789822936058,\n",
       "    0.0006601420463994145,\n",
       "    -0.0032680134754627943,\n",
       "    0.019482260569930077,\n",
       "    -0.01391968410462141,\n",
       "    0.0047149453312158585,\n",
       "    0.0015437804395332932,\n",
       "    0.00899945292621851,\n",
       "    -0.025932200253009796,\n",
       "    -0.0035991191398352385,\n",
       "    0.02048882097005844,\n",
       "    -0.003652096027508378,\n",
       "    0.015297084115445614,\n",
       "    0.005079161841422319,\n",
       "    -0.005062606185674667,\n",
       "    0.01897897943854332,\n",
       "    -0.026581166312098503,\n",
       "    0.018263790756464005,\n",
       "    0.0005397023051045835,\n",
       "    0.002099210163578391,\n",
       "    0.011820473708212376,\n",
       "    0.002941874321550131,\n",
       "    -0.004433505702763796,\n",
       "    -0.03009088709950447,\n",
       "    -0.003188548143953085,\n",
       "    0.00020994171791244298,\n",
       "    0.009721264243125916,\n",
       "    -0.01451567467302084,\n",
       "    -0.005092405714094639,\n",
       "    -0.018952490761876106,\n",
       "    -0.0094232689589262,\n",
       "    -0.0027663882356137037,\n",
       "    0.018065128475427628,\n",
       "    -0.029878979548811913,\n",
       "    -0.03952077776193619,\n",
       "    0.0019618014339357615,\n",
       "    -0.010654982179403305,\n",
       "    0.019455771893262863,\n",
       "    -0.0065757595002651215,\n",
       "    -0.012807168997824192,\n",
       "    -0.02017096057534218,\n",
       "    -0.0068207778967916965,\n",
       "    -0.011760874651372433,\n",
       "    -0.01170789822936058,\n",
       "    0.0253494530916214,\n",
       "    -0.010078857652842999,\n",
       "    -0.020952370017766953,\n",
       "    -0.012979344464838505,\n",
       "    0.013853463344275951,\n",
       "    -0.020210692659020424,\n",
       "    0.007264459505677223,\n",
       "    0.0028789641801267862,\n",
       "    -0.03356087580323219,\n",
       "    0.05567873641848564,\n",
       "    0.017972419038414955,\n",
       "    0.006953219883143902,\n",
       "    0.015773875638842583,\n",
       "    0.013515735045075417,\n",
       "    0.01958821341395378,\n",
       "    -0.017985662445425987,\n",
       "    -0.01574738696217537,\n",
       "    -0.018568407744169235,\n",
       "    -0.01492624543607235,\n",
       "    0.0015843408182263374,\n",
       "    -0.0014626594493165612,\n",
       "    -0.007873693481087685,\n",
       "    0.0036487849429249763,\n",
       "    -0.003830893198028207,\n",
       "    0.003688517725095153,\n",
       "    0.005079161841422319,\n",
       "    0.02272709645330906,\n",
       "    -0.0022829738445580006,\n",
       "    -0.027945322915911674,\n",
       "    -0.04304374381899834,\n",
       "    -0.034037668257951736,\n",
       "    0.00046685905545018613,\n",
       "    0.003960024565458298,\n",
       "    -0.006694957613945007,\n",
       "    0.022170837968587875,\n",
       "    -0.04736136272549629,\n",
       "    -0.001327733974903822,\n",
       "    0.01994580775499344,\n",
       "    0.035812392830848694,\n",
       "    0.02507132478058338,\n",
       "    -0.0022349637001752853,\n",
       "    0.022780073806643486,\n",
       "    -0.012323754839599133,\n",
       "    9.638280607759953e-05,\n",
       "    0.019906075671315193,\n",
       "    0.002501503797248006,\n",
       "    -0.02317740023136139,\n",
       "    0.00652609346434474,\n",
       "    -0.0334814116358757,\n",
       "    -0.033348966389894485,\n",
       "    0.02093912474811077,\n",
       "    -0.0028872417751699686,\n",
       "    0.005827460438013077,\n",
       "    -0.007489611394703388,\n",
       "    0.00476461136713624,\n",
       "    -0.008244532160460949,\n",
       "    0.008608748205006123,\n",
       "    -0.013356804847717285,\n",
       "    -0.03705735132098198,\n",
       "    0.027283111587166786,\n",
       "    -0.013654800131917,\n",
       "    -0.0029782960191369057,\n",
       "    -0.011025819927453995,\n",
       "    -0.037401702255010605,\n",
       "    -0.02956111915409565,\n",
       "    0.0258924663066864,\n",
       "    0.010701336897909641,\n",
       "    0.005969835910946131,\n",
       "    0.0011274149874225259,\n",
       "    -0.033640339970588684,\n",
       "    -0.018475698307156563,\n",
       "    0.029905468225479126,\n",
       "    0.0029352521523833275,\n",
       "    0.01912466622889042,\n",
       "    -0.0062711420468986034,\n",
       "    0.04338809475302696,\n",
       "    0.016979102045297623,\n",
       "    -0.009694775566458702,\n",
       "    -0.02956111915409565,\n",
       "    -0.02017096057534218,\n",
       "    -0.01920413225889206,\n",
       "    0.0009246126865036786,\n",
       "    0.025150790810585022,\n",
       "    0.019998785108327866,\n",
       "    -0.002360783750191331,\n",
       "    -0.013528979383409023,\n",
       "    -0.00012882081500720233,\n",
       "    -0.027945322915911674,\n",
       "    0.006605559028685093,\n",
       "    -0.01305880956351757,\n",
       "    0.027706926688551903,\n",
       "    0.01965443603694439,\n",
       "    0.013972661457955837,\n",
       "    -0.010681470856070518,\n",
       "    -0.015548724681138992,\n",
       "    -0.028157230466604233,\n",
       "    0.030832564458251,\n",
       "    0.00214722054079175,\n",
       "    0.017124786972999573,\n",
       "    -0.0077015189453959465,\n",
       "    -0.018926002085208893,\n",
       "    -0.001647250959649682,\n",
       "    0.011966160498559475,\n",
       "    -0.014383232221007347,\n",
       "    0.030594168230891228,\n",
       "    0.016449332237243652,\n",
       "    -0.01614471524953842,\n",
       "    0.008946476504206657,\n",
       "    0.0053870901465415955,\n",
       "    0.015323572792112827,\n",
       "    -0.016449332237243652,\n",
       "    -0.030276305973529816,\n",
       "    0.02648845687508583,\n",
       "    0.0006506227073259652,\n",
       "    0.01531032845377922,\n",
       "    0.002872342010959983,\n",
       "    0.014780559577047825,\n",
       "    -0.016396354883909225,\n",
       "    -0.0018459144048392773,\n",
       "    -0.006906865164637566,\n",
       "    0.02394556626677513,\n",
       "    -0.023018470034003258,\n",
       "    -0.01741616055369377,\n",
       "    0.017217496410012245,\n",
       "    0.021866220980882645,\n",
       "    0.008562393486499786,\n",
       "    -0.014502430334687233,\n",
       "    -0.002191919833421707,\n",
       "    -0.007310814224183559,\n",
       "    -0.001993256388232112,\n",
       "    -0.014383232221007347,\n",
       "    0.008469684049487114,\n",
       "    -0.0037547387182712555,\n",
       "    -0.017535358667373657,\n",
       "    -0.031627219170331955,\n",
       "    0.011621810495853424,\n",
       "    -0.015018954873085022,\n",
       "    0.0038375151343643665,\n",
       "    0.0017250607488676906,\n",
       "    0.012893256731331348,\n",
       "    -0.025243500247597694,\n",
       "    -0.02656792290508747,\n",
       "    -0.0024568045046180487,\n",
       "    0.008721324615180492,\n",
       "    -0.0029931957833468914,\n",
       "    -0.0010661603882908821,\n",
       "    0.012250911444425583,\n",
       "    -0.00994641613215208,\n",
       "    0.02161458134651184,\n",
       "    -0.007880316115915775,\n",
       "    0.011204617097973824,\n",
       "    0.018409477546811104,\n",
       "    0.012436330318450928,\n",
       "    -0.03046172671020031,\n",
       "    0.039414823055267334,\n",
       "    -0.0024832929484546185,\n",
       "    0.0040626670233905315,\n",
       "    0.02026367001235485,\n",
       "    0.002809432102367282,\n",
       "    -0.022382745519280434,\n",
       "    -0.012820413336157799,\n",
       "    -0.009178250096738338,\n",
       "    0.017124786972999573,\n",
       "    -0.01080729067325592,\n",
       "    0.003037894843146205,\n",
       "    0.010343742556869984,\n",
       "    0.00963517650961876,\n",
       "    -0.013370049186050892,\n",
       "    -0.01447594165802002,\n",
       "    -0.006933353841304779,\n",
       "    0.014767315238714218,\n",
       "    -0.015442770905792713,\n",
       "    0.001339322654530406,\n",
       "    -0.0023425729013979435,\n",
       "    -0.009025941602885723,\n",
       "    0.01410510390996933,\n",
       "    0.002607457572594285,\n",
       "    0.0012904845643788576,\n",
       "    -0.017389671877026558,\n",
       "    -0.028634022921323776,\n",
       "    -0.04476549103856087,\n",
       "    0.013535602018237114,\n",
       "    0.0040858443826437,\n",
       "    -0.005936725530773401,\n",
       "    0.009476245380938053,\n",
       "    0.0216808021068573,\n",
       "    -0.01799890585243702,\n",
       "    -0.010853645391762257,\n",
       "    -0.007820717059075832,\n",
       "    0.009304070845246315,\n",
       "    0.0130919199436903,\n",
       "    -0.020515309646725655,\n",
       "    -0.0023905832786113024,\n",
       "    0.02964058332145214,\n",
       "    -0.0011000987142324448,\n",
       "    0.0003008923085872084,\n",
       "    -0.02460777759552002,\n",
       "    -0.038222845643758774,\n",
       "    -0.015111665241420269,\n",
       "    -0.0337727814912796,\n",
       "    0.013389915227890015,\n",
       "    -0.002504814649000764,\n",
       "    0.031150424852967262,\n",
       "    0.008754434995353222,\n",
       "    -0.013224362395703793,\n",
       "    -0.012727703899145126,\n",
       "    -0.0077015189453959465,\n",
       "    -0.03790498152375221,\n",
       "    -0.01966767944395542,\n",
       "    0.003923602867871523,\n",
       "    0.02377339079976082,\n",
       "    0.018475698307156563,\n",
       "    0.017800243571400642,\n",
       "    0.01875382848083973,\n",
       "    0.021707290783524513,\n",
       "    0.01451567467302084,\n",
       "    0.015787120908498764,\n",
       "    -0.027971811592578888,\n",
       "    0.02460777759552002,\n",
       "    -0.010058991611003876,\n",
       "    -0.0305411908775568,\n",
       "    0.02100534737110138,\n",
       "    -0.01650230959057808,\n",
       "    -0.04773220047354698,\n",
       "    -0.01613146997988224,\n",
       "    -0.009959659539163113,\n",
       "    -0.01440972089767456,\n",
       "    0.004761300049722195,\n",
       "    0.015932807698845863,\n",
       "    0.011827096343040466,\n",
       "    -0.002658778801560402,\n",
       "    -0.0069465977139770985,\n",
       "    0.021508626639842987,\n",
       "    -0.003388867015019059,\n",
       "    -0.0016232457710430026,\n",
       "    0.017151275649666786,\n",
       "    -0.03901749849319458,\n",
       "    -0.009509355761110783,\n",
       "    0.011171506717801094,\n",
       "    0.008343864232301712,\n",
       "    -0.007178371772170067,\n",
       "    0.006979708559811115,\n",
       "    0.014608384110033512,\n",
       "    0.005344046279788017,\n",
       "    0.019521992653608322,\n",
       "    -0.01166816521435976,\n",
       "    0.003316023852676153,\n",
       "    -0.012416464276611805,\n",
       "    0.0047944108955562115,\n",
       "    0.0062876977026462555,\n",
       "    0.01711154356598854,\n",
       "    0.004251397214829922,\n",
       "    0.02964058332145214,\n",
       "    0.0077809845097362995,\n",
       "    -0.024872660636901855,\n",
       "    -0.006456561386585236,\n",
       "    0.009165005758404732,\n",
       "    -0.014237545430660248,\n",
       "    0.0019998785573989153,\n",
       "    0.010264277458190918,\n",
       "    0.010509295389056206,\n",
       "    -0.0032746356446295977,\n",
       "    0.01576063223183155,\n",
       "    0.017734022811055183,\n",
       "    0.005741373170167208,\n",
       "    -0.025614337995648384,\n",
       "    0.021349696442484856,\n",
       "    0.004271263722330332,\n",
       "    -0.016038760542869568,\n",
       "    -0.02850157953798771,\n",
       "    -0.015085176564753056,\n",
       "    -0.02137618511915207,\n",
       "    -0.018051883205771446,\n",
       "    -0.004721567500382662,\n",
       "    0.0013840219471603632,\n",
       "    0.025336209684610367,\n",
       "    -0.0068009113892912865,\n",
       "    0.03173317015171051,\n",
       "    0.0015272251330316067,\n",
       "    -0.017469137907028198,\n",
       "    0.008787545375525951,\n",
       "    -0.00855577178299427,\n",
       "    -0.03324301540851593,\n",
       "    -0.0107675576582551,\n",
       "    0.01545601524412632,\n",
       "    0.014714337885379791,\n",
       "    0.008092223666608334,\n",
       "    0.20883499085903168,\n",
       "    0.02333633042871952,\n",
       "    0.0011630088556557894,\n",
       "    0.01769428886473179,\n",
       "    0.004171932116150856,\n",
       "    0.0006874582613818347,\n",
       "    0.01606524921953678,\n",
       "    0.010323876515030861,\n",
       "    0.01545601524412632,\n",
       "    0.012827035039663315,\n",
       "    -0.008674969896674156,\n",
       "    0.02677983045578003,\n",
       "    0.02438262477517128,\n",
       "    0.0037977825850248337,\n",
       "    0.005598997697234154,\n",
       "    -0.03636865317821503,\n",
       "    -0.03205103427171707,\n",
       "    0.009933171793818474,\n",
       "    -0.014038882218301296,\n",
       "    0.025468651205301285,\n",
       "    0.010409963317215443,\n",
       "    -0.022448968142271042,\n",
       "    0.0009287515422329307,\n",
       "    -0.004801033064723015,\n",
       "    0.019018711522221565,\n",
       "    0.011211239732801914,\n",
       "    -0.004834143444895744,\n",
       "    0.012138335965573788,\n",
       "    0.040924668312072754,\n",
       "    0.013893195427954197,\n",
       "    -0.014330255798995495,\n",
       "    0.0033044349402189255,\n",
       "    0.0035626974422484636,\n",
       "    -0.015614945441484451,\n",
       "    0.004860632121562958,\n",
       "    -0.01664799451828003,\n",
       "    0.02409125119447708,\n",
       "    -0.002347539411857724,\n",
       "    -0.0023657502606511116,\n",
       "    0.002645534696057439,\n",
       "    0.010138456709682941,\n",
       "    -0.00889349915087223,\n",
       "    -0.0040626670233905315,\n",
       "    0.011416524648666382,\n",
       "    0.009694775566458702,\n",
       "    0.005238092504441738,\n",
       "    ...],\n",
       "   'cusip6': '64110D',\n",
       "   'source': 'https://www.sec.gov/Archives/edgar/data/1002047/000095017023027948/0000950170-23-027948-index.htm',\n",
       "   'text': '>Item 1.  \\nBusiness\\n\\n\\nOverview\\n\\n\\nNetApp, Inc. (NetApp, we, us or the Company) is a global cloud-led, data-centric software company. We were incorporated in 1992 and are headquartered in San Jose, California. Building on more than three decades of innovation, we give customers the freedom to manage applications and data across hybrid multicloud environments. Our portfolio of cloud services, and storage infrastructure, powered by intelligent data management software, enables applications to run faster, more reliably, and more securely, all at a lower cost.\\n\\n\\nOur opportunity is defined by the durable megatrends of data-driven digital and cloud transformations. NetApp helps organizations meet the complexities created by rapid data and cloud growth, multi-cloud management, and the adoption of next-generation technologies, such as AI, Kubernetes, and modern databases. Our modern approach to hybrid, multicloud infrastructure and data management, which we term ‘evolved cloud’, provides customers the ability to leverage data across their entire estate with simplicity, security, and sustainability which increases our relevance and value to our customers.\\n\\n\\nIn an evolved cloud state, the cloud is fully integrated into an organization’s architecture and operations. Data centers and clouds are seamlessly united and hybrid multicloud operations are simplified, with consistency and observability across environments. The key benefits NetApp brings to an organization’s hybrid multicloud environment are:\\n\\n\\n•\\nOperational simplicity: NetApp’s use of open source, open architectures and APIs, microservices, and common capabilities and data services facilitate the creation of applications that can run anywhere.\\n\\n\\n•\\nFlexibility and consistency: NetApp makes moving data and applications between environments seamless through a common storage foundation across on-premises and multicloud environments.',\n",
       "   'chunkId': '0000950170-23-027948-item1-chunk0000',\n",
       "   'chunkSeqId': 0}}]"
      ]
     },
     "execution_count": 25,
     "metadata": {},
     "output_type": "execute_result"
    }
   ],
   "source": [
    "kg.query(query=merge_chunk_node_query, params={\"chunkParam\": first_file_chunks[0]})"
   ]
  },
  {
   "cell_type": "markdown",
   "metadata": {},
   "source": [
    "- Create a uniqueness constraint to avoid duplicate chunks"
   ]
  },
  {
   "cell_type": "code",
   "execution_count": 26,
   "metadata": {},
   "outputs": [
    {
     "data": {
      "text/plain": [
       "[]"
      ]
     },
     "execution_count": 26,
     "metadata": {},
     "output_type": "execute_result"
    }
   ],
   "source": [
    "query = \"\"\"\n",
    "    CREATE CONSTRAINT unique_chunk IF NOT EXISTS\n",
    "    FOR (c:Chunk) REQUIRE c.chunkId IS UNIQUE\n",
    "\"\"\"\n",
    "\n",
    "kg.query(query=query)"
   ]
  },
  {
   "cell_type": "code",
   "execution_count": 27,
   "metadata": {},
   "outputs": [
    {
     "data": {
      "text/plain": [
       "[{'id': 4,\n",
       "  'name': 'form_10k_chunks',\n",
       "  'state': 'ONLINE',\n",
       "  'populationPercent': 100.0,\n",
       "  'type': 'VECTOR',\n",
       "  'entityType': 'NODE',\n",
       "  'labelsOrTypes': ['Chunk'],\n",
       "  'properties': ['textEmbedding'],\n",
       "  'indexProvider': 'vector-2.0',\n",
       "  'owningConstraint': None,\n",
       "  'lastRead': neo4j.time.DateTime(2024, 5, 16, 19, 20, 36, 800000000, tzinfo=<UTC>),\n",
       "  'readCount': 1},\n",
       " {'id': 0,\n",
       "  'name': 'index_343aff4e',\n",
       "  'state': 'ONLINE',\n",
       "  'populationPercent': 100.0,\n",
       "  'type': 'LOOKUP',\n",
       "  'entityType': 'NODE',\n",
       "  'labelsOrTypes': None,\n",
       "  'properties': None,\n",
       "  'indexProvider': 'token-lookup-1.0',\n",
       "  'owningConstraint': None,\n",
       "  'lastRead': neo4j.time.DateTime(2024, 5, 16, 19, 20, 27, 601000000, tzinfo=<UTC>),\n",
       "  'readCount': 10},\n",
       " {'id': 1,\n",
       "  'name': 'index_f7700477',\n",
       "  'state': 'ONLINE',\n",
       "  'populationPercent': 100.0,\n",
       "  'type': 'LOOKUP',\n",
       "  'entityType': 'RELATIONSHIP',\n",
       "  'labelsOrTypes': None,\n",
       "  'properties': None,\n",
       "  'indexProvider': 'token-lookup-1.0',\n",
       "  'owningConstraint': None,\n",
       "  'lastRead': None,\n",
       "  'readCount': 0},\n",
       " {'id': 2,\n",
       "  'name': 'unique_chunk',\n",
       "  'state': 'ONLINE',\n",
       "  'populationPercent': 100.0,\n",
       "  'type': 'RANGE',\n",
       "  'entityType': 'NODE',\n",
       "  'labelsOrTypes': ['Chunk'],\n",
       "  'properties': ['chunkId'],\n",
       "  'indexProvider': 'range-1.0',\n",
       "  'owningConstraint': 'unique_chunk',\n",
       "  'lastRead': neo4j.time.DateTime(2024, 5, 12, 9, 31, 39, 974000000, tzinfo=<UTC>),\n",
       "  'readCount': 238}]"
      ]
     },
     "execution_count": 27,
     "metadata": {},
     "output_type": "execute_result"
    }
   ],
   "source": [
    "kg.query(query=\"SHOW INDEXES\")"
   ]
  },
  {
   "cell_type": "markdown",
   "metadata": {},
   "source": [
    "- Loop through and create nodes for all chunks\n",
    "- Should create 23 nodes because you set a limit of 20 chunks in the text splitting function above"
   ]
  },
  {
   "cell_type": "code",
   "execution_count": 28,
   "metadata": {},
   "outputs": [
    {
     "name": "stdout",
     "output_type": "stream",
     "text": [
      "Creating `:Chunk` node for chunk ID 0000950170-23-027948-item1-chunk0000\n",
      "Creating `:Chunk` node for chunk ID 0000950170-23-027948-item1-chunk0001\n",
      "Creating `:Chunk` node for chunk ID 0000950170-23-027948-item1-chunk0002\n",
      "Creating `:Chunk` node for chunk ID 0000950170-23-027948-item1-chunk0003\n",
      "Creating `:Chunk` node for chunk ID 0000950170-23-027948-item1-chunk0004\n",
      "Creating `:Chunk` node for chunk ID 0000950170-23-027948-item1-chunk0005\n",
      "Creating `:Chunk` node for chunk ID 0000950170-23-027948-item1-chunk0006\n",
      "Creating `:Chunk` node for chunk ID 0000950170-23-027948-item1-chunk0007\n",
      "Creating `:Chunk` node for chunk ID 0000950170-23-027948-item1-chunk0008\n",
      "Creating `:Chunk` node for chunk ID 0000950170-23-027948-item1-chunk0009\n",
      "Creating `:Chunk` node for chunk ID 0000950170-23-027948-item1-chunk0010\n",
      "Creating `:Chunk` node for chunk ID 0000950170-23-027948-item1-chunk0011\n",
      "Creating `:Chunk` node for chunk ID 0000950170-23-027948-item1-chunk0012\n",
      "Creating `:Chunk` node for chunk ID 0000950170-23-027948-item1-chunk0013\n",
      "Creating `:Chunk` node for chunk ID 0000950170-23-027948-item1-chunk0014\n",
      "Creating `:Chunk` node for chunk ID 0000950170-23-027948-item1-chunk0015\n",
      "Creating `:Chunk` node for chunk ID 0000950170-23-027948-item1-chunk0016\n",
      "Creating `:Chunk` node for chunk ID 0000950170-23-027948-item1-chunk0017\n",
      "Creating `:Chunk` node for chunk ID 0000950170-23-027948-item1-chunk0018\n",
      "Creating `:Chunk` node for chunk ID 0000950170-23-027948-item1-chunk0019\n",
      "Creating `:Chunk` node for chunk ID 0000950170-23-027948-item1a-chunk0000\n",
      "Creating `:Chunk` node for chunk ID 0000950170-23-027948-item1a-chunk0001\n",
      "Creating `:Chunk` node for chunk ID 0000950170-23-027948-item1a-chunk0002\n",
      "Creating `:Chunk` node for chunk ID 0000950170-23-027948-item1a-chunk0003\n",
      "Creating `:Chunk` node for chunk ID 0000950170-23-027948-item1a-chunk0004\n",
      "Creating `:Chunk` node for chunk ID 0000950170-23-027948-item1a-chunk0005\n",
      "Creating `:Chunk` node for chunk ID 0000950170-23-027948-item1a-chunk0006\n",
      "Creating `:Chunk` node for chunk ID 0000950170-23-027948-item1a-chunk0007\n",
      "Creating `:Chunk` node for chunk ID 0000950170-23-027948-item1a-chunk0008\n",
      "Creating `:Chunk` node for chunk ID 0000950170-23-027948-item1a-chunk0009\n",
      "Creating `:Chunk` node for chunk ID 0000950170-23-027948-item1a-chunk0010\n",
      "Creating `:Chunk` node for chunk ID 0000950170-23-027948-item1a-chunk0011\n",
      "Creating `:Chunk` node for chunk ID 0000950170-23-027948-item1a-chunk0012\n",
      "Creating `:Chunk` node for chunk ID 0000950170-23-027948-item1a-chunk0013\n",
      "Creating `:Chunk` node for chunk ID 0000950170-23-027948-item1a-chunk0014\n",
      "Creating `:Chunk` node for chunk ID 0000950170-23-027948-item1a-chunk0015\n",
      "Creating `:Chunk` node for chunk ID 0000950170-23-027948-item1a-chunk0016\n",
      "Creating `:Chunk` node for chunk ID 0000950170-23-027948-item1a-chunk0017\n",
      "Creating `:Chunk` node for chunk ID 0000950170-23-027948-item1a-chunk0018\n",
      "Creating `:Chunk` node for chunk ID 0000950170-23-027948-item1a-chunk0019\n",
      "Creating `:Chunk` node for chunk ID 0000950170-23-027948-item7-chunk0000\n",
      "Creating `:Chunk` node for chunk ID 0000950170-23-027948-item7-chunk0001\n",
      "Creating `:Chunk` node for chunk ID 0000950170-23-027948-item7-chunk0002\n",
      "Creating `:Chunk` node for chunk ID 0000950170-23-027948-item7-chunk0003\n",
      "Creating `:Chunk` node for chunk ID 0000950170-23-027948-item7-chunk0004\n",
      "Creating `:Chunk` node for chunk ID 0000950170-23-027948-item7-chunk0005\n",
      "Creating `:Chunk` node for chunk ID 0000950170-23-027948-item7-chunk0006\n",
      "Creating `:Chunk` node for chunk ID 0000950170-23-027948-item7-chunk0007\n",
      "Creating `:Chunk` node for chunk ID 0000950170-23-027948-item7-chunk0008\n",
      "Creating `:Chunk` node for chunk ID 0000950170-23-027948-item7-chunk0009\n",
      "Creating `:Chunk` node for chunk ID 0000950170-23-027948-item7-chunk0010\n",
      "Creating `:Chunk` node for chunk ID 0000950170-23-027948-item7-chunk0011\n",
      "Creating `:Chunk` node for chunk ID 0000950170-23-027948-item7-chunk0012\n",
      "Creating `:Chunk` node for chunk ID 0000950170-23-027948-item7-chunk0013\n",
      "Creating `:Chunk` node for chunk ID 0000950170-23-027948-item7-chunk0014\n",
      "Creating `:Chunk` node for chunk ID 0000950170-23-027948-item7-chunk0015\n",
      "Creating `:Chunk` node for chunk ID 0000950170-23-027948-item7-chunk0016\n",
      "Creating `:Chunk` node for chunk ID 0000950170-23-027948-item7-chunk0017\n",
      "Creating `:Chunk` node for chunk ID 0000950170-23-027948-item7-chunk0018\n",
      "Creating `:Chunk` node for chunk ID 0000950170-23-027948-item7-chunk0019\n",
      "Creating `:Chunk` node for chunk ID 0000950170-23-027948-item7a-chunk0000\n",
      "Creating `:Chunk` node for chunk ID 0000950170-23-027948-item7a-chunk0001\n",
      "Creating `:Chunk` node for chunk ID 0000950170-23-027948-item7a-chunk0002\n",
      "Creating `:Chunk` node for chunk ID 0000950170-23-027948-item7a-chunk0003\n",
      "Creating `:Chunk` node for chunk ID 0000950170-23-027948-item7a-chunk0004\n",
      "Creating `:Chunk` node for chunk ID 0000950170-23-027948-item7a-chunk0005\n",
      "Creating `:Chunk` node for chunk ID 0000950170-23-027948-item7a-chunk0006\n",
      "Creating `:Chunk` node for chunk ID 0000950170-23-027948-item7a-chunk0007\n",
      "Creating `:Chunk` node for chunk ID 0000950170-23-027948-item7a-chunk0008\n",
      "Creating `:Chunk` node for chunk ID 0000950170-23-027948-item7a-chunk0009\n",
      "Creating `:Chunk` node for chunk ID 0000950170-23-027948-item7a-chunk0010\n",
      "Creating `:Chunk` node for chunk ID 0000950170-23-027948-item7a-chunk0011\n",
      "Creating `:Chunk` node for chunk ID 0000950170-23-027948-item7a-chunk0012\n",
      "Creating `:Chunk` node for chunk ID 0000950170-23-027948-item7a-chunk0013\n",
      "Creating `:Chunk` node for chunk ID 0000950170-23-027948-item7a-chunk0014\n",
      "Creating `:Chunk` node for chunk ID 0000950170-23-027948-item7a-chunk0015\n",
      "Creating `:Chunk` node for chunk ID 0000950170-23-027948-item7a-chunk0016\n",
      "Creating `:Chunk` node for chunk ID 0000950170-23-027948-item7a-chunk0017\n",
      "Creating `:Chunk` node for chunk ID 0000950170-23-027948-item7a-chunk0018\n",
      "Creating `:Chunk` node for chunk ID 0000950170-23-027948-item7a-chunk0019\n",
      "Created 80 nodes\n"
     ]
    }
   ],
   "source": [
    "node_count = 0\n",
    "\n",
    "for chunk in first_file_chunks:\n",
    "    print(f\"Creating `:Chunk` node for chunk ID {chunk['chunkId']}\")\n",
    "    kg.query(query=merge_chunk_node_query,\n",
    "             params={\"chunkParam\": chunk})\n",
    "    node_count += 1\n",
    "\n",
    "print(f\"Created {node_count} nodes\")"
   ]
  },
  {
   "cell_type": "code",
   "execution_count": 29,
   "metadata": {},
   "outputs": [
    {
     "data": {
      "text/plain": [
       "[{'nodeCount': 80}]"
      ]
     },
     "execution_count": 29,
     "metadata": {},
     "output_type": "execute_result"
    }
   ],
   "source": [
    "query = \"\"\"\n",
    "    MATCH (n)\n",
    "    RETURN COUNT(n) as nodeCount\n",
    "\"\"\"\n",
    "\n",
    "kg.query(query=query)"
   ]
  },
  {
   "cell_type": "markdown",
   "metadata": {},
   "source": [
    "### Create a vector index"
   ]
  },
  {
   "cell_type": "code",
   "execution_count": 30,
   "metadata": {},
   "outputs": [
    {
     "data": {
      "text/plain": [
       "[]"
      ]
     },
     "execution_count": 30,
     "metadata": {},
     "output_type": "execute_result"
    }
   ],
   "source": [
    "query = \"\"\"\n",
    "    CREATE VECTOR INDEX `form_10k_chunks` IF NOT EXISTS\n",
    "    FOR (c:Chunk) ON (c.textEmbedding)\n",
    "    OPTIONS { indexConfig: {\n",
    "        `vector.dimensions`: 1536,\n",
    "        `vector.similarity_function`: 'cosine'\n",
    "    }}\n",
    "\"\"\"\n",
    "\n",
    "kg.query(query=query)"
   ]
  },
  {
   "cell_type": "code",
   "execution_count": 31,
   "metadata": {},
   "outputs": [
    {
     "data": {
      "text/plain": [
       "[{'id': 4,\n",
       "  'name': 'form_10k_chunks',\n",
       "  'state': 'ONLINE',\n",
       "  'populationPercent': 100.0,\n",
       "  'type': 'VECTOR',\n",
       "  'entityType': 'NODE',\n",
       "  'labelsOrTypes': ['Chunk'],\n",
       "  'properties': ['textEmbedding'],\n",
       "  'indexProvider': 'vector-2.0',\n",
       "  'owningConstraint': None,\n",
       "  'lastRead': neo4j.time.DateTime(2024, 5, 16, 19, 20, 36, 800000000, tzinfo=<UTC>),\n",
       "  'readCount': 1},\n",
       " {'id': 0,\n",
       "  'name': 'index_343aff4e',\n",
       "  'state': 'ONLINE',\n",
       "  'populationPercent': 100.0,\n",
       "  'type': 'LOOKUP',\n",
       "  'entityType': 'NODE',\n",
       "  'labelsOrTypes': None,\n",
       "  'properties': None,\n",
       "  'indexProvider': 'token-lookup-1.0',\n",
       "  'owningConstraint': None,\n",
       "  'lastRead': neo4j.time.DateTime(2024, 5, 18, 10, 36, 45, 731000000, tzinfo=<UTC>),\n",
       "  'readCount': 13},\n",
       " {'id': 1,\n",
       "  'name': 'index_f7700477',\n",
       "  'state': 'ONLINE',\n",
       "  'populationPercent': 100.0,\n",
       "  'type': 'LOOKUP',\n",
       "  'entityType': 'RELATIONSHIP',\n",
       "  'labelsOrTypes': None,\n",
       "  'properties': None,\n",
       "  'indexProvider': 'token-lookup-1.0',\n",
       "  'owningConstraint': None,\n",
       "  'lastRead': None,\n",
       "  'readCount': 0},\n",
       " {'id': 2,\n",
       "  'name': 'unique_chunk',\n",
       "  'state': 'ONLINE',\n",
       "  'populationPercent': 100.0,\n",
       "  'type': 'RANGE',\n",
       "  'entityType': 'NODE',\n",
       "  'labelsOrTypes': ['Chunk'],\n",
       "  'properties': ['chunkId'],\n",
       "  'indexProvider': 'range-1.0',\n",
       "  'owningConstraint': 'unique_chunk',\n",
       "  'lastRead': neo4j.time.DateTime(2024, 5, 18, 10, 36, 48, 6000000, tzinfo=<UTC>),\n",
       "  'readCount': 265}]"
      ]
     },
     "execution_count": 31,
     "metadata": {},
     "output_type": "execute_result"
    }
   ],
   "source": [
    "kg.query(query=\"SHOW INDEXES\")"
   ]
  },
  {
   "cell_type": "markdown",
   "metadata": {},
   "source": [
    "### Calculate embedding vectors for chunks and populate index\n",
    "- This query calculates the embedding vector and stores it as a property called `textEmbedding` on each `Chunk` node."
   ]
  },
  {
   "cell_type": "code",
   "execution_count": 32,
   "metadata": {},
   "outputs": [
    {
     "data": {
      "text/plain": [
       "[]"
      ]
     },
     "execution_count": 32,
     "metadata": {},
     "output_type": "execute_result"
    }
   ],
   "source": [
    "query = \"\"\"\n",
    "    MATCH (chunk:Chunk) WHERE chunk.textEmbedding IS NULL\n",
    "    WITH chunk, genai.vector.encode(\n",
    "        chunk.text,\n",
    "        \"OpenAI\",\n",
    "        {\n",
    "            token: $openAiApiKey\n",
    "        }) AS vector\n",
    "    CALL db.create.setNodeVectorProperty(chunk, \"textEmbedding\", vector)\n",
    "\"\"\"\n",
    "\n",
    "kg.query(query=query, params={\"openAiApiKey\": OPENAI_API_KEY})"
   ]
  },
  {
   "cell_type": "code",
   "execution_count": 33,
   "metadata": {},
   "outputs": [
    {
     "name": "stdout",
     "output_type": "stream",
     "text": [
      "Node properties:\n",
      "Chunk {chunkId: STRING, names: LIST, formId: STRING, cik: STRING, cusip6: STRING, source: STRING, f10kItem: STRING, chunkSeqId: INTEGER, text: STRING, textEmbedding: LIST}\n",
      "Relationship properties:\n",
      "\n",
      "The relationships:\n",
      "\n"
     ]
    }
   ],
   "source": [
    "kg.refresh_schema()\n",
    "\n",
    "print(kg.schema)"
   ]
  },
  {
   "cell_type": "markdown",
   "metadata": {},
   "source": [
    "### Use similarity search to find relevant chunks"
   ]
  },
  {
   "cell_type": "markdown",
   "metadata": {},
   "source": [
    "- Setup a help function to perform similarity search using the vector index"
   ]
  },
  {
   "cell_type": "code",
   "execution_count": 34,
   "metadata": {},
   "outputs": [],
   "source": [
    "def neo4j_vector_search(question):\n",
    "    \"\"\"Search for similar nodes using the Neo4j vector index\"\"\"\n",
    "    vector_search_query = \"\"\"\n",
    "        WITH genai.vector.encode(\n",
    "            $question,\n",
    "            \"OpenAI\",\n",
    "            {\n",
    "                token: $openAiAPIKey\n",
    "            }) AS question_embedding\n",
    "        CALL db.index.vector.queryNodes($index_name, $top_k, question_embedding) yield node, score\n",
    "        RETURN score, node.text AS text\n",
    "    \"\"\"\n",
    "\n",
    "    similar = kg.query(query=vector_search_query,\n",
    "                        params={\n",
    "                            \"question\": question,\n",
    "                            \"openAiAPIKey\": OPENAI_API_KEY,\n",
    "                            \"index_name\": VECTOR_INDEX_NAME,\n",
    "                            \"top_k\": 10})\n",
    "    \n",
    "    return similar"
   ]
  },
  {
   "cell_type": "markdown",
   "metadata": {},
   "source": [
    "- Ask a question!"
   ]
  },
  {
   "cell_type": "code",
   "execution_count": 35,
   "metadata": {},
   "outputs": [],
   "source": [
    "search_results = neo4j_vector_search(\"In a single sentence, tell me about Netapp.\")"
   ]
  },
  {
   "cell_type": "code",
   "execution_count": 36,
   "metadata": {},
   "outputs": [
    {
     "data": {
      "text/plain": [
       "{'score': 0.93589186668396,\n",
       " 'text': '>Item 1.  \\nBusiness\\n\\n\\nOverview\\n\\n\\nNetApp, Inc. (NetApp, we, us or the Company) is a global cloud-led, data-centric software company. We were incorporated in 1992 and are headquartered in San Jose, California. Building on more than three decades of innovation, we give customers the freedom to manage applications and data across hybrid multicloud environments. Our portfolio of cloud services, and storage infrastructure, powered by intelligent data management software, enables applications to run faster, more reliably, and more securely, all at a lower cost.\\n\\n\\nOur opportunity is defined by the durable megatrends of data-driven digital and cloud transformations. NetApp helps organizations meet the complexities created by rapid data and cloud growth, multi-cloud management, and the adoption of next-generation technologies, such as AI, Kubernetes, and modern databases. Our modern approach to hybrid, multicloud infrastructure and data management, which we term ‘evolved cloud’, provides customers the ability to leverage data across their entire estate with simplicity, security, and sustainability which increases our relevance and value to our customers.\\n\\n\\nIn an evolved cloud state, the cloud is fully integrated into an organization’s architecture and operations. Data centers and clouds are seamlessly united and hybrid multicloud operations are simplified, with consistency and observability across environments. The key benefits NetApp brings to an organization’s hybrid multicloud environment are:\\n\\n\\n•\\nOperational simplicity: NetApp’s use of open source, open architectures and APIs, microservices, and common capabilities and data services facilitate the creation of applications that can run anywhere.\\n\\n\\n•\\nFlexibility and consistency: NetApp makes moving data and applications between environments seamless through a common storage foundation across on-premises and multicloud environments.'}"
      ]
     },
     "execution_count": 36,
     "metadata": {},
     "output_type": "execute_result"
    }
   ],
   "source": [
    "search_results[0]"
   ]
  },
  {
   "cell_type": "markdown",
   "metadata": {},
   "source": [
    "### Set up a LangChain RAG workflow to chat with the form"
   ]
  },
  {
   "cell_type": "code",
   "execution_count": 37,
   "metadata": {},
   "outputs": [],
   "source": [
    "neo4j_vector_store = Neo4jVector.from_existing_graph(\n",
    "    embedding=OpenAIEmbeddings(),\n",
    "    url=NEO4J_URI,\n",
    "    username=NEO4J_USERNAME,\n",
    "    password=NEO4J_PASSWORD,\n",
    "    index_name=VECTOR_INDEX_NAME,\n",
    "    node_label=VECTOR_NODE_LABEL,\n",
    "    text_node_properties=[VECTOR_SOURCE_PROPERTY],\n",
    "    embedding_node_property=VECTOR_EMBEDDING_PROPERTY\n",
    ")"
   ]
  },
  {
   "cell_type": "code",
   "execution_count": 38,
   "metadata": {},
   "outputs": [],
   "source": [
    "retriever = neo4j_vector_store.as_retriever()"
   ]
  },
  {
   "cell_type": "markdown",
   "metadata": {},
   "source": [
    "- Set up a RetrievalQAWithSourcesChain to carry out question answering\n",
    "- You can check out the LangChain documentation for this chain [here](https://api.python.langchain.com/en/latest/chains/langchain.chains.qa_with_sources.retrieval.RetrievalQAWithSourcesChain.html)"
   ]
  },
  {
   "cell_type": "code",
   "execution_count": 39,
   "metadata": {},
   "outputs": [],
   "source": [
    "chain = RetrievalQAWithSourcesChain.from_chain_type(\n",
    "    llm=ChatOpenAI(temperature=0),\n",
    "    chain_type=\"stuff\",\n",
    "    retriever=retriever\n",
    ")"
   ]
  },
  {
   "cell_type": "code",
   "execution_count": 40,
   "metadata": {},
   "outputs": [],
   "source": [
    "def prettychain(question: str) -> str:\n",
    "    \"\"\"Pretty print the chain's response to a question\"\"\"\n",
    "    response = chain({\"question\": question}, return_only_outputs=True)\n",
    "    print(textwrap.fill(response[\"answer\"], 60))"
   ]
  },
  {
   "cell_type": "markdown",
   "metadata": {},
   "source": [
    "- Ask a question!"
   ]
  },
  {
   "cell_type": "code",
   "execution_count": 42,
   "metadata": {},
   "outputs": [],
   "source": [
    "question = \"What is Netapp's primary business?\""
   ]
  },
  {
   "cell_type": "code",
   "execution_count": 43,
   "metadata": {},
   "outputs": [
    {
     "name": "stdout",
     "output_type": "stream",
     "text": [
      "NetApp's primary business is enterprise storage and data\n",
      "management, cloud storage, and cloud operations markets.\n"
     ]
    }
   ],
   "source": [
    "prettychain(question=question)"
   ]
  },
  {
   "cell_type": "code",
   "execution_count": 44,
   "metadata": {},
   "outputs": [
    {
     "name": "stdout",
     "output_type": "stream",
     "text": [
      "NetApp is headquartered in San Jose, California.\n"
     ]
    }
   ],
   "source": [
    "prettychain(\"Where is Netapp headquartered?\")"
   ]
  },
  {
   "cell_type": "code",
   "execution_count": 45,
   "metadata": {},
   "outputs": [
    {
     "name": "stdout",
     "output_type": "stream",
     "text": [
      "NetApp provides intelligent data management software,\n",
      "including NetApp ONTAP, NetApp Snapshot, NetApp SnapCenter\n",
      "Backup Management, NetApp SnapMirror Data Replication, and\n",
      "NetApp SnapLock Data Compliance. These solutions offer\n",
      "various data management and protection features, automatic\n",
      "ransomware protection, data transport capabilities, and\n",
      "storage efficiency. NetApp software helps customers achieve\n",
      "business continuity goals and ensures data integrity and\n",
      "safety in data centers and the cloud.\n"
     ]
    }
   ],
   "source": [
    "prettychain(\"Tell me about Netapp\")"
   ]
  },
  {
   "cell_type": "markdown",
   "metadata": {},
   "source": [
    "Let's pass instruction to LLM to limit answer to a single sentence."
   ]
  },
  {
   "cell_type": "code",
   "execution_count": 46,
   "metadata": {},
   "outputs": [
    {
     "name": "stdout",
     "output_type": "stream",
     "text": [
      "NetApp provides intelligent data management software\n",
      "solutions for data centers and the cloud.\n"
     ]
    }
   ],
   "source": [
    "prettychain(\"\"\"\n",
    "    Tell me about Netapp.\n",
    "    Limit your answer to a single sentence.\n",
    "\"\"\")"
   ]
  },
  {
   "cell_type": "markdown",
   "metadata": {},
   "source": [
    "Let's ask about another company"
   ]
  },
  {
   "cell_type": "code",
   "execution_count": 47,
   "metadata": {},
   "outputs": [
    {
     "name": "stdout",
     "output_type": "stream",
     "text": [
      "NetApp, Inc. is a global cloud-led, data-centric software\n",
      "company headquartered in San Jose, California.\n"
     ]
    }
   ],
   "source": [
    "prettychain(\"\"\"\n",
    "    Tell me about Apple.\n",
    "    Limit your answer to a single sentence.\n",
    "\"\"\")"
   ]
  },
  {
   "cell_type": "markdown",
   "metadata": {},
   "source": [
    "This is a clear case of hallucination. Let's instruct LLM to handle this."
   ]
  },
  {
   "cell_type": "code",
   "execution_count": 48,
   "metadata": {},
   "outputs": [
    {
     "name": "stdout",
     "output_type": "stream",
     "text": [
      "I don't know.\n"
     ]
    }
   ],
   "source": [
    "prettychain(\"\"\"\n",
    "    Tell me about Apple.\n",
    "    Limit your answer to a single sentence.\n",
    "    If you are unsure about the answer, say you don't know.\n",
    "\"\"\")"
   ]
  },
  {
   "cell_type": "markdown",
   "metadata": {},
   "source": [
    "### Ask your own question!\n",
    "- Add your own question to the call to prettychain below to find out more about NetApp\n",
    "- Here is NetApp's website if you want some inspiration: https://www.netapp.com/"
   ]
  },
  {
   "cell_type": "code",
   "execution_count": 49,
   "metadata": {},
   "outputs": [
    {
     "name": "stdout",
     "output_type": "stream",
     "text": [
      "Becoming a NetApp partner allows for maximizing the business\n",
      "value of IT and cloud investments, meeting evolving customer\n",
      "needs, and ensuring growth and success.\n"
     ]
    }
   ],
   "source": [
    "prettychain(\"\"\"\n",
    "    Tell me the benefits of becoming Netapp partner.\n",
    "\"\"\")"
   ]
  }
 ],
 "metadata": {
  "kernelspec": {
   "display_name": "py3_knowledge_graphs_rag_course",
   "language": "python",
   "name": "python3"
  },
  "language_info": {
   "codemirror_mode": {
    "name": "ipython",
    "version": 3
   },
   "file_extension": ".py",
   "mimetype": "text/x-python",
   "name": "python",
   "nbconvert_exporter": "python",
   "pygments_lexer": "ipython3",
   "version": "3.12.3"
  }
 },
 "nbformat": 4,
 "nbformat_minor": 2
}

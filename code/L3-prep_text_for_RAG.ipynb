{
 "cells": [
  {
   "cell_type": "markdown",
   "metadata": {},
   "source": [
    "# Lesson 3: Preparing Text Data for RAG"
   ]
  },
  {
   "cell_type": "markdown",
   "metadata": {},
   "source": [
    "### Import packages and set up Neo4j"
   ]
  },
  {
   "cell_type": "code",
   "execution_count": 1,
   "metadata": {},
   "outputs": [],
   "source": [
    "from dotenv import load_dotenv\n",
    "import os\n",
    "\n",
    "from langchain_community.graphs import Neo4jGraph"
   ]
  },
  {
   "cell_type": "code",
   "execution_count": 2,
   "metadata": {},
   "outputs": [],
   "source": [
    "# Warnings control\n",
    "import warnings\n",
    "\n",
    "warnings.filterwarnings(\"ignore\")"
   ]
  },
  {
   "cell_type": "markdown",
   "metadata": {},
   "source": [
    "Load from environment"
   ]
  },
  {
   "cell_type": "code",
   "execution_count": 3,
   "metadata": {},
   "outputs": [],
   "source": [
    "load_dotenv(\".env\")\n",
    "\n",
    "NEO4J_URI = os.getenv(\"NEO4J_URI\")\n",
    "NEO4J_USERNAME = os.getenv(\"NEO4J_USERNAME\")\n",
    "NEO4J_PASSWORD = os.getenv(\"NEO4J_PASSWORD\")\n",
    "NEO4J_DATABASE = os.getenv(\"NEO4J_DATABASE\")\n",
    "OPENAI_API_KEY = os.getenv(\"OPENAI_API_KEY\")"
   ]
  },
  {
   "cell_type": "code",
   "execution_count": 8,
   "metadata": {},
   "outputs": [],
   "source": [
    "# Connect to the knowledge graph instance using LangChain\n",
    "\n",
    "kg = Neo4jGraph(url=NEO4J_URI, username=NEO4J_USERNAME, password=NEO4J_PASSWORD, database=NEO4J_DATABASE)"
   ]
  },
  {
   "cell_type": "markdown",
   "metadata": {},
   "source": [
    "### Create a vector index"
   ]
  },
  {
   "cell_type": "code",
   "execution_count": 6,
   "metadata": {},
   "outputs": [
    {
     "data": {
      "text/plain": [
       "[]"
      ]
     },
     "execution_count": 6,
     "metadata": {},
     "output_type": "execute_result"
    }
   ],
   "source": [
    "query = \"\"\"\n",
    "    CREATE VECTOR INDEX movie_tagline_embeddings IF NOT EXISTS\n",
    "    FOR (m:Movie) ON (m.taglineEmbedding)\n",
    "    OPTIONS { indexConfig: {\n",
    "        `vector.dimensions`: 1536,\n",
    "        `vector.similarity_function`: 'cosine'\n",
    "    }\n",
    "    }\n",
    "\"\"\"\n",
    "\n",
    "kg.query(query=query)"
   ]
  },
  {
   "cell_type": "code",
   "execution_count": 7,
   "metadata": {},
   "outputs": [
    {
     "data": {
      "text/plain": [
       "[{'id': 2,\n",
       "  'name': 'movie_tagline_embeddings',\n",
       "  'state': 'ONLINE',\n",
       "  'populationPercent': 100.0,\n",
       "  'type': 'VECTOR',\n",
       "  'entityType': 'NODE',\n",
       "  'labelsOrTypes': ['Movie'],\n",
       "  'properties': ['taglineEmbedding'],\n",
       "  'indexProvider': 'vector-2.0',\n",
       "  'owningConstraint': None,\n",
       "  'lastRead': None,\n",
       "  'readCount': 0}]"
      ]
     },
     "execution_count": 7,
     "metadata": {},
     "output_type": "execute_result"
    }
   ],
   "source": [
    "query = \"\"\"\n",
    "    SHOW VECTOR INDEXES\n",
    "\"\"\"\n",
    "\n",
    "kg.query(query=query)"
   ]
  },
  {
   "cell_type": "markdown",
   "metadata": {},
   "source": [
    "### Populate the vector index\n",
    "- Calculate vector representation for each movie tagline using OpenAI\n",
    "- Add vector to the `Movie` node as `taglineEmbedding` property"
   ]
  },
  {
   "cell_type": "code",
   "execution_count": 12,
   "metadata": {},
   "outputs": [
    {
     "data": {
      "text/plain": [
       "[]"
      ]
     },
     "execution_count": 12,
     "metadata": {},
     "output_type": "execute_result"
    }
   ],
   "source": [
    "query = \"\"\"\n",
    "    MATCH (movie:Movie) WHERE movie.tagline IS NOT NULL\n",
    "    WITH movie, genai.vector.encode(\n",
    "        movie.tagline,\n",
    "        \"OpenAI\",\n",
    "        {\n",
    "            token: $openAiApiKey\n",
    "        }) AS vector\n",
    "    CALL db.create.setNodeVectorProperty(movie, \"taglineEmbedding\", vector)\n",
    "    \"\"\"\n",
    "\n",
    "kg.query(query=query, params={\"openAiApiKey\": OPENAI_API_KEY})"
   ]
  },
  {
   "cell_type": "code",
   "execution_count": 14,
   "metadata": {},
   "outputs": [],
   "source": [
    "query = \"\"\"\n",
    "    MATCH (m:Movie)\n",
    "    WHERE m.tagline IS NOT NULL\n",
    "    RETURN m.tagline, m.taglineEmbedding\n",
    "    LIMIT 1\n",
    "\"\"\"\n",
    "\n",
    "result = kg.query(query=query)"
   ]
  },
  {
   "cell_type": "code",
   "execution_count": 15,
   "metadata": {},
   "outputs": [
    {
     "data": {
      "text/plain": [
       "'Welcome to the Real World'"
      ]
     },
     "execution_count": 15,
     "metadata": {},
     "output_type": "execute_result"
    }
   ],
   "source": [
    "result[0][\"m.tagline\"]"
   ]
  },
  {
   "cell_type": "code",
   "execution_count": 16,
   "metadata": {},
   "outputs": [
    {
     "data": {
      "text/plain": [
       "[0.01738535612821579,\n",
       " -0.005492697935551405,\n",
       " -0.002040519379079342,\n",
       " -0.02559983730316162,\n",
       " -0.01443757489323616,\n",
       " 0.01673029363155365,\n",
       " -0.017123330384492874,\n",
       " 0.0005064451252110302,\n",
       " -0.02524610422551632,\n",
       " -0.02953021228313446]"
      ]
     },
     "execution_count": 16,
     "metadata": {},
     "output_type": "execute_result"
    }
   ],
   "source": [
    "result[0][\"m.taglineEmbedding\"][:10]"
   ]
  },
  {
   "cell_type": "markdown",
   "metadata": {},
   "source": [
    "Check the length of vector embedding"
   ]
  },
  {
   "cell_type": "code",
   "execution_count": 17,
   "metadata": {},
   "outputs": [
    {
     "data": {
      "text/plain": [
       "1536"
      ]
     },
     "execution_count": 17,
     "metadata": {},
     "output_type": "execute_result"
    }
   ],
   "source": [
    "len(result[0][\"m.taglineEmbedding\"])"
   ]
  },
  {
   "cell_type": "markdown",
   "metadata": {},
   "source": [
    "### Similarity search\n",
    "- Calculate embedding for question\n",
    "- Identify matching movies based on similarity of question and `taglineEmbedding` vectors"
   ]
  },
  {
   "cell_type": "code",
   "execution_count": 18,
   "metadata": {},
   "outputs": [],
   "source": [
    "question = \"What movies are about love?\""
   ]
  },
  {
   "cell_type": "code",
   "execution_count": 23,
   "metadata": {},
   "outputs": [],
   "source": [
    "similarity_search_query = \"\"\"\n",
    "    WITH genai.vector.encode(\n",
    "        $question,\n",
    "        \"OpenAI\",\n",
    "        {\n",
    "            token: $openAiApiKey\n",
    "        }) AS question_embedding\n",
    "    CALL db.index.vector.queryNodes(\n",
    "        'movie_tagline_embeddings',\n",
    "        $top_k,\n",
    "        question_embedding\n",
    "        ) YIELD node as movie, score\n",
    "    RETURN movie.title, movie.tagline, score\n",
    "\"\"\"\n",
    "\n",
    "similarity_search_params = {\"openAiApiKey\": OPENAI_API_KEY,\n",
    "                            \"question\": question,\n",
    "                            \"top_k\": 5}"
   ]
  },
  {
   "cell_type": "code",
   "execution_count": 24,
   "metadata": {},
   "outputs": [
    {
     "data": {
      "text/plain": [
       "[{'movie.title': 'Joe Versus the Volcano',\n",
       "  'movie.tagline': 'A story of love, lava and burning desire.',\n",
       "  'score': 0.9063376188278198},\n",
       " {'movie.title': 'As Good as It Gets',\n",
       "  'movie.tagline': 'A comedy from the heart that goes for the throat.',\n",
       "  'score': 0.9022751450538635},\n",
       " {'movie.title': 'Snow Falling on Cedars',\n",
       "  'movie.tagline': 'First loves last. Forever.',\n",
       "  'score': 0.9013450145721436},\n",
       " {'movie.title': 'Sleepless in Seattle',\n",
       "  'movie.tagline': 'What if someone you never met, someone you never saw, someone you never knew was the only someone for you?',\n",
       "  'score': 0.8944939374923706},\n",
       " {'movie.title': 'When Harry Met Sally',\n",
       "  'movie.tagline': 'Can two friends sleep together and still love each other in the morning?',\n",
       "  'score': 0.8942662477493286}]"
      ]
     },
     "execution_count": 24,
     "metadata": {},
     "output_type": "execute_result"
    }
   ],
   "source": [
    "kg.query(query=similarity_search_query, params=similarity_search_params)"
   ]
  },
  {
   "cell_type": "markdown",
   "metadata": {},
   "source": [
    "### Try for yourself: ask your own question!\n",
    "- Change the question below and run the graph query to find different movies"
   ]
  },
  {
   "cell_type": "code",
   "execution_count": 25,
   "metadata": {},
   "outputs": [],
   "source": [
    "question = \"What movies are about adventure?\""
   ]
  },
  {
   "cell_type": "code",
   "execution_count": 27,
   "metadata": {},
   "outputs": [
    {
     "data": {
      "text/plain": [
       "[{'movie.title': 'RescueDawn',\n",
       "  'movie.tagline': \"Based on the extraordinary true story of one man's fight for freedom\",\n",
       "  'score': 0.8997488021850586},\n",
       " {'movie.title': 'Cast Away',\n",
       "  'movie.tagline': 'At the edge of the world, his journey begins.',\n",
       "  'score': 0.8985832929611206},\n",
       " {'movie.title': 'Ninja Assassin',\n",
       "  'movie.tagline': 'Prepare to enter a secret world of assassins',\n",
       "  'score': 0.8880105018615723},\n",
       " {'movie.title': 'Joe Versus the Volcano',\n",
       "  'movie.tagline': 'A story of love, lava and burning desire.',\n",
       "  'score': 0.8869996070861816},\n",
       " {'movie.title': 'As Good as It Gets',\n",
       "  'movie.tagline': 'A comedy from the heart that goes for the throat.',\n",
       "  'score': 0.885577380657196}]"
      ]
     },
     "execution_count": 27,
     "metadata": {},
     "output_type": "execute_result"
    }
   ],
   "source": [
    "similarity_search_params = {\"openAiApiKey\": OPENAI_API_KEY,\n",
    "                            \"question\": question,\n",
    "                            \"top_k\": 5}\n",
    "\n",
    "kg.query(query=similarity_search_query, params=similarity_search_params)"
   ]
  }
 ],
 "metadata": {
  "kernelspec": {
   "display_name": "py3_knowledge_graphs_rag_course",
   "language": "python",
   "name": "python3"
  },
  "language_info": {
   "codemirror_mode": {
    "name": "ipython",
    "version": 3
   },
   "file_extension": ".py",
   "mimetype": "text/x-python",
   "name": "python",
   "nbconvert_exporter": "python",
   "pygments_lexer": "ipython3",
   "version": "3.12.3"
  }
 },
 "nbformat": 4,
 "nbformat_minor": 2
}

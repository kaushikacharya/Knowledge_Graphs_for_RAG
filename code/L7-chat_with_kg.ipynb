{
 "cells": [
  {
   "cell_type": "markdown",
   "metadata": {},
   "source": [
    "# Lesson 7: Chatting with the SEC Knowledge Graph"
   ]
  },
  {
   "cell_type": "markdown",
   "metadata": {},
   "source": [
    "### Import packages and set up Neo4j"
   ]
  },
  {
   "cell_type": "code",
   "execution_count": 1,
   "metadata": {},
   "outputs": [],
   "source": [
    "from dotenv import load_dotenv\n",
    "import os"
   ]
  },
  {
   "cell_type": "markdown",
   "metadata": {},
   "source": [
    "Load from environment"
   ]
  },
  {
   "cell_type": "code",
   "execution_count": 2,
   "metadata": {},
   "outputs": [],
   "source": [
    "load_dotenv(dotenv_path=\".env\", override=True)\n",
    "\n",
    "NEO4J_URI = os.getenv(\"NEO4J_URI\")\n",
    "NEO4J_USERNAME = os.getenv(\"NEO4J_USERNAME\")\n",
    "NEO4J_PASSWORD = os.getenv(\"NEO4J_PASSWORD\")\n",
    "NEO4J_DATABASE = os.getenv(\"NEO4J_DATABASE\") or \"neo4j\"\n",
    "OPENAI_API_KEY = os.getenv(\"OPENAI_API_KEY\")\n",
    "\n",
    "# Global constants\n",
    "VECTOR_INDEX_NAME = \"form_10k_chunks\"\n",
    "VECTOR_NODE_LABEL = \"Chunk\"\n",
    "VECTOR_SOURCE_PROPERTY = \"text\"\n",
    "VECTOR_EMBEDDING_PROPERTY = \"textEmbedding\""
   ]
  },
  {
   "cell_type": "markdown",
   "metadata": {},
   "source": [
    "Warning control"
   ]
  },
  {
   "cell_type": "code",
   "execution_count": 3,
   "metadata": {},
   "outputs": [],
   "source": [
    "import warnings\n",
    "\n",
    "warnings.filterwarnings(action=\"ignore\")"
   ]
  },
  {
   "cell_type": "code",
   "execution_count": 4,
   "metadata": {},
   "outputs": [],
   "source": [
    "import textwrap\n",
    "\n",
    "from langchain_community.graphs import Neo4jGraph\n",
    "from langchain_community.vectorstores import Neo4jVector\n",
    "from langchain_openai import OpenAIEmbeddings\n",
    "from langchain_openai import ChatOpenAI\n",
    "from langchain.chains import RetrievalQAWithSourcesChain\n",
    "from langchain.chains import GraphCypherQAChain\n",
    "from langchain.prompts.prompt import PromptTemplate"
   ]
  },
  {
   "cell_type": "code",
   "execution_count": 5,
   "metadata": {},
   "outputs": [],
   "source": [
    "kg = Neo4jGraph(url=NEO4J_URI, username=NEO4J_USERNAME, password=NEO4J_PASSWORD, database=NEO4J_DATABASE)"
   ]
  },
  {
   "cell_type": "markdown",
   "metadata": {},
   "source": [
    "### Explore the updated SEC documents graph\n",
    "In this lesson, you'll be working with an updated graph that also includes the address information discussed in the video\n",
    "- Some outputs below may differ slightly from the video\n",
    "- Start by checking the schema of the graph"
   ]
  },
  {
   "cell_type": "code",
   "execution_count": 6,
   "metadata": {},
   "outputs": [
    {
     "name": "stdout",
     "output_type": "stream",
     "text": [
      "Node properties: Chunk {textEmbedding: LIST, f10kItem:\n",
      "STRING, chunkSeqId: INTEGER, text: STRING, cik: STRING,\n",
      "cusip6: STRING, names: LIST, formId: STRING, source: STRING,\n",
      "chunkId: STRING} Form {cusip6: STRING, names: LIST, formId:\n",
      "STRING, source: STRING} Company {location: POINT, cusip:\n",
      "STRING, names: LIST, companyAddress: STRING, companyName:\n",
      "STRING, cusip6: STRING} Manager {location: POINT,\n",
      "managerName: STRING, managerCik: STRING, managerAddress:\n",
      "STRING} Address {location: POINT, country: STRING, city:\n",
      "STRING, state: STRING} Relationship properties: SECTION\n",
      "{f10kItem: STRING} OWNS_STOCK_IN {shares: INTEGER,\n",
      "reportCalendarOrQuarter: STRING, value: FLOAT} The\n",
      "relationships: (:Chunk)-[:NEXT]->(:Chunk)\n",
      "(:Chunk)-[:PART_OF]->(:Form) (:Form)-[:SECTION]->(:Chunk)\n",
      "(:Company)-[:FILED]->(:Form)\n",
      "(:Company)-[:LOCATED_AT]->(:Address)\n",
      "(:Manager)-[:LOCATED_AT]->(:Address)\n",
      "(:Manager)-[:OWNS_STOCK_IN]->(:Company)\n"
     ]
    }
   ],
   "source": [
    "kg.refresh_schema()\n",
    "\n",
    "print(textwrap.fill(text=kg.schema, width=60))"
   ]
  },
  {
   "cell_type": "markdown",
   "metadata": {},
   "source": [
    "- Check the address of a random Manager\n",
    "- Note: The company returned by the following query may differ from the one in the video"
   ]
  },
  {
   "cell_type": "code",
   "execution_count": 7,
   "metadata": {},
   "outputs": [
    {
     "data": {
      "text/plain": [
       "[{'mgr': {'managerCik': '1424381',\n",
       "   'managerAddress': '650 Madison Avenue, 25th Floor, New York, NY, 10022',\n",
       "   'location': POINT(-73.9713457 40.7639879),\n",
       "   'managerName': 'LAKEWOOD CAPITAL MANAGEMENT, LP'},\n",
       "  'addr': {'country': 'United States',\n",
       "   'city': 'New York',\n",
       "   'location': POINT(-73.9821429 40.7584882),\n",
       "   'state': 'New York'}}]"
      ]
     },
     "execution_count": 7,
     "metadata": {},
     "output_type": "execute_result"
    }
   ],
   "source": [
    "cypher = \"\"\"\n",
    "    MATCH (mgr: Manager)-[:LOCATED_AT]->(addr: Address)\n",
    "    RETURN mgr, addr\n",
    "    LIMIT 1\n",
    "\"\"\"\n",
    "\n",
    "kg.query(query=cypher)"
   ]
  },
  {
   "cell_type": "markdown",
   "metadata": {},
   "source": [
    "- Full text search for a manager named Royal Bank\n",
    "- KA: First identify the full text index created for manager names"
   ]
  },
  {
   "cell_type": "code",
   "execution_count": 10,
   "metadata": {},
   "outputs": [
    {
     "data": {
      "text/plain": [
       "[{'id': 10,\n",
       "  'name': 'fullTextCompanyNames',\n",
       "  'state': 'ONLINE',\n",
       "  'populationPercent': 100.0,\n",
       "  'type': 'FULLTEXT',\n",
       "  'entityType': 'NODE',\n",
       "  'labelsOrTypes': ['Company'],\n",
       "  'properties': ['names'],\n",
       "  'indexProvider': 'fulltext-1.0',\n",
       "  'owningConstraint': None,\n",
       "  'lastRead': neo4j.time.DateTime(2024, 3, 12, 9, 11, 2, 914000000, tzinfo=<UTC>),\n",
       "  'readCount': 25},\n",
       " {'id': 13,\n",
       "  'name': 'fullTextManagerNames',\n",
       "  'state': 'ONLINE',\n",
       "  'populationPercent': 100.0,\n",
       "  'type': 'FULLTEXT',\n",
       "  'entityType': 'NODE',\n",
       "  'labelsOrTypes': ['Manager'],\n",
       "  'properties': ['managerName'],\n",
       "  'indexProvider': 'fulltext-1.0',\n",
       "  'owningConstraint': None,\n",
       "  'lastRead': neo4j.time.DateTime(2024, 3, 11, 22, 16, 18, 352000000, tzinfo=<UTC>),\n",
       "  'readCount': 6}]"
      ]
     },
     "execution_count": 10,
     "metadata": {},
     "output_type": "execute_result"
    }
   ],
   "source": [
    "cypher = \"\"\"\n",
    "    SHOW FULLTEXT INDEXES\n",
    "\"\"\"\n",
    "\n",
    "kg.query(query=cypher)"
   ]
  },
  {
   "cell_type": "code",
   "execution_count": 12,
   "metadata": {},
   "outputs": [
    {
     "data": {
      "text/plain": [
       "[{'node.managerName': 'Royal Bank of Canada', 'score': 4.431276321411133}]"
      ]
     },
     "execution_count": 12,
     "metadata": {},
     "output_type": "execute_result"
    }
   ],
   "source": [
    "cypher = \"\"\"\n",
    "    CALL db.index.fulltext.queryNodes(\n",
    "        \"fullTextManagerNames\", \"Royal Bank\") YIELD node, score\n",
    "    RETURN node.managerName, score\n",
    "    LIMIT 1\n",
    "\"\"\"\n",
    "\n",
    "kg.query(query=cypher)"
   ]
  },
  {
   "cell_type": "markdown",
   "metadata": {},
   "source": [
    "- Find location of Royal Bank"
   ]
  },
  {
   "cell_type": "code",
   "execution_count": 7,
   "metadata": {},
   "outputs": [
    {
     "data": {
      "text/plain": [
       "[{'mgr.managerName': 'Royal Bank of Canada',\n",
       "  'addr': {'country': 'Canada',\n",
       "   'city': 'Toronto',\n",
       "   'location': POINT(-79.3805647 43.6508267),\n",
       "   'state': 'Ontario'}}]"
      ]
     },
     "execution_count": 7,
     "metadata": {},
     "output_type": "execute_result"
    }
   ],
   "source": [
    "cypher = \"\"\"\n",
    "    CALL db.index.fulltext.queryNodes(\n",
    "        \"fullTextManagerNames\", \"Royal Bank\"\n",
    "    ) yield node, score\n",
    "    WITH node as mgr LIMIT 1\n",
    "    MATCH (mgr: Manager)-[:LOCATED_AT]->(addr: Address)\n",
    "    RETURN mgr.managerName, addr\n",
    "\"\"\"\n",
    "\n",
    "kg.query(query=cypher)"
   ]
  },
  {
   "cell_type": "markdown",
   "metadata": {},
   "source": [
    "- Determine which state has the most investment firms"
   ]
  },
  {
   "cell_type": "code",
   "execution_count": 9,
   "metadata": {},
   "outputs": [
    {
     "data": {
      "text/plain": [
       "[{'state': 'New York', 'numManagers': 304},\n",
       " {'state': 'California', 'numManagers': 302},\n",
       " {'state': 'Massachusetts', 'numManagers': 146},\n",
       " {'state': 'Pennsylvania', 'numManagers': 138},\n",
       " {'state': 'Texas', 'numManagers': 125},\n",
       " {'state': 'Illinois', 'numManagers': 121},\n",
       " {'state': 'Florida', 'numManagers': 115},\n",
       " {'state': 'Connecticut', 'numManagers': 77},\n",
       " {'state': 'Ohio', 'numManagers': 76},\n",
       " {'state': 'New Jersey', 'numManagers': 69}]"
      ]
     },
     "execution_count": 9,
     "metadata": {},
     "output_type": "execute_result"
    }
   ],
   "source": [
    "cypher = \"\"\"\n",
    "    MATCH (mgr: Manager)-[:LOCATED_AT]->(addr: Address)\n",
    "    RETURN addr.state as state, count(addr.state) as numManagers\n",
    "        ORDER BY numManagers DESC \n",
    "        LIMIT 10\n",
    "\"\"\"\n",
    "\n",
    "kg.query(query=cypher)"
   ]
  },
  {
   "cell_type": "markdown",
   "metadata": {},
   "source": [
    "- Determine which state has the most companies"
   ]
  },
  {
   "cell_type": "code",
   "execution_count": 11,
   "metadata": {},
   "outputs": [
    {
     "data": {
      "text/plain": [
       "[{'state': 'California', 'numCompanies': 7},\n",
       " {'state': 'Delaware', 'numCompanies': 1},\n",
       " {'state': 'New York', 'numCompanies': 1},\n",
       " {'state': 'Oregon', 'numCompanies': 1}]"
      ]
     },
     "execution_count": 11,
     "metadata": {},
     "output_type": "execute_result"
    }
   ],
   "source": [
    "cypher = \"\"\"\n",
    "    MATCH p=(:Company)-[:LOCATED_AT]->(addr: Address)\n",
    "        RETURN addr.state as state, count(addr.state) as numCompanies\n",
    "        ORDER BY numCompanies DESC\n",
    "\"\"\"\n",
    "\n",
    "kg.query(query=cypher)"
   ]
  },
  {
   "cell_type": "markdown",
   "metadata": {},
   "source": [
    "- What are the cities in California with the most investment firms?"
   ]
  },
  {
   "cell_type": "code",
   "execution_count": 12,
   "metadata": {},
   "outputs": [
    {
     "data": {
      "text/plain": [
       "[{'city': 'San Francisco', 'numManagers': 48},\n",
       " {'city': 'Los Angeles', 'numManagers': 44},\n",
       " {'city': 'San Diego', 'numManagers': 17},\n",
       " {'city': 'Pasadena', 'numManagers': 13},\n",
       " {'city': 'Irvine', 'numManagers': 9},\n",
       " {'city': 'Menlo Park', 'numManagers': 9},\n",
       " {'city': 'Newport Beach', 'numManagers': 9},\n",
       " {'city': 'Walnut Creek', 'numManagers': 8},\n",
       " {'city': 'Palo Alto', 'numManagers': 6},\n",
       " {'city': 'Lafayette', 'numManagers': 6},\n",
       " {'city': 'Santa Barbara', 'numManagers': 6},\n",
       " {'city': 'San Rafael', 'numManagers': 5},\n",
       " {'city': 'Santa Monica', 'numManagers': 5},\n",
       " {'city': 'Carlsbad', 'numManagers': 5},\n",
       " {'city': 'Oakland', 'numManagers': 5},\n",
       " {'city': 'Larkspur', 'numManagers': 4},\n",
       " {'city': 'El Segundo', 'numManagers': 4},\n",
       " {'city': 'San Ramon', 'numManagers': 4},\n",
       " {'city': 'Orinda', 'numManagers': 3},\n",
       " {'city': 'Beverly Hills', 'numManagers': 3},\n",
       " {'city': 'Westlake Village', 'numManagers': 3},\n",
       " {'city': 'Los Gatos', 'numManagers': 3},\n",
       " {'city': 'Sausalito', 'numManagers': 3},\n",
       " {'city': 'Berkeley', 'numManagers': 3},\n",
       " {'city': 'Foster City', 'numManagers': 3},\n",
       " {'city': 'Costa Mesa', 'numManagers': 2},\n",
       " {'city': 'West Hollywood', 'numManagers': 2},\n",
       " {'city': 'Novato', 'numManagers': 2},\n",
       " {'city': 'Mill Valley', 'numManagers': 2},\n",
       " {'city': 'Concord', 'numManagers': 2},\n",
       " {'city': 'RCHO SANTA FE', 'numManagers': 2},\n",
       " {'city': 'Palos Verdes Estates', 'numManagers': 2},\n",
       " {'city': 'Los Altos', 'numManagers': 2},\n",
       " {'city': 'Glendale', 'numManagers': 2},\n",
       " {'city': 'San Luis Obispo', 'numManagers': 2},\n",
       " {'city': 'Palm Desert', 'numManagers': 2},\n",
       " {'city': 'Santa Rosa', 'numManagers': 2},\n",
       " {'city': 'Long Beach', 'numManagers': 2},\n",
       " {'city': 'Burlingame', 'numManagers': 2},\n",
       " {'city': 'Corona', 'numManagers': 2},\n",
       " {'city': 'Santa Ana', 'numManagers': 2},\n",
       " {'city': 'West Sacramento', 'numManagers': 1},\n",
       " {'city': 'Claremont', 'numManagers': 1},\n",
       " {'city': 'Alameda', 'numManagers': 1},\n",
       " {'city': 'Saratoga', 'numManagers': 1},\n",
       " {'city': 'Torrance', 'numManagers': 1},\n",
       " {'city': 'Banning', 'numManagers': 1},\n",
       " {'city': 'Folsom', 'numManagers': 1},\n",
       " {'city': 'San Anselmo', 'numManagers': 1},\n",
       " {'city': 'El Dorado Hills', 'numManagers': 1},\n",
       " {'city': 'Mountain View', 'numManagers': 1},\n",
       " {'city': 'Carmel-by-the-Sea', 'numManagers': 1},\n",
       " {'city': 'Healdsburg', 'numManagers': 1},\n",
       " {'city': 'Roseville', 'numManagers': 1},\n",
       " {'city': 'Sebastopol', 'numManagers': 1},\n",
       " {'city': 'Pleasanton', 'numManagers': 1},\n",
       " {'city': 'Napa', 'numManagers': 1},\n",
       " {'city': 'Lake Forest', 'numManagers': 1},\n",
       " {'city': 'Danville', 'numManagers': 1},\n",
       " {'city': 'Simi Valley', 'numManagers': 1},\n",
       " {'city': 'Campbell', 'numManagers': 1},\n",
       " {'city': 'Redlands', 'numManagers': 1},\n",
       " {'city': 'Los Altos Hills', 'numManagers': 1},\n",
       " {'city': 'Calabasas', 'numManagers': 1},\n",
       " {'city': 'Mission Viejo', 'numManagers': 1},\n",
       " {'city': 'Bakersfield', 'numManagers': 1},\n",
       " {'city': 'Coronado', 'numManagers': 1},\n",
       " {'city': 'Redwood City', 'numManagers': 1},\n",
       " {'city': 'San Clemente', 'numManagers': 1},\n",
       " {'city': 'Turlock', 'numManagers': 1},\n",
       " {'city': 'Escondido', 'numManagers': 1},\n",
       " {'city': 'Corte Madera', 'numManagers': 1},\n",
       " {'city': 'Clayton', 'numManagers': 1},\n",
       " {'city': 'Manhattan Beach', 'numManagers': 1},\n",
       " {'city': 'Ontario', 'numManagers': 1},\n",
       " {'city': 'Portola Valley', 'numManagers': 1},\n",
       " {'city': 'Alamo', 'numManagers': 1},\n",
       " {'city': 'Chico', 'numManagers': 1},\n",
       " {'city': 'San Mateo', 'numManagers': 1},\n",
       " {'city': 'Anaheim', 'numManagers': 1},\n",
       " {'city': 'Sacramento', 'numManagers': 1},\n",
       " {'city': 'Del Mar', 'numManagers': 1},\n",
       " {'city': 'Aliso Viejo', 'numManagers': 1}]"
      ]
     },
     "execution_count": 12,
     "metadata": {},
     "output_type": "execute_result"
    }
   ],
   "source": [
    "cypher = \"\"\"\n",
    "    MATCH p=(:Manager)-[:LOCATED_AT]->(addr: Address)\n",
    "        WHERE addr.state = 'California'\n",
    "    RETURN addr.city as city, count(addr.city) as numManagers\n",
    "    ORDER BY numManagers DESC\n",
    "\"\"\"\n",
    "\n",
    "kg.query(query=cypher)"
   ]
  },
  {
   "cell_type": "markdown",
   "metadata": {},
   "source": [
    "- Which city in California has the most companies listed?"
   ]
  },
  {
   "cell_type": "code",
   "execution_count": 13,
   "metadata": {},
   "outputs": [
    {
     "data": {
      "text/plain": [
       "[]"
      ]
     },
     "execution_count": 13,
     "metadata": {},
     "output_type": "execute_result"
    }
   ],
   "source": [
    "cypher = \"\"\"\n",
    "    MATCH p=(:Company)-[:LOCATED_AT]->(addr:Address)\n",
    "        WHERE addr.city = 'California'\n",
    "    RETURN addr.city as city, count(addr.city) as numCompanies\n",
    "    ORDER BY numCompanies DESC\n",
    "\"\"\"\n",
    "\n",
    "kg.query(query=cypher)"
   ]
  },
  {
   "cell_type": "markdown",
   "metadata": {},
   "source": [
    "- What are the top investment firms in San Francisco?"
   ]
  },
  {
   "cell_type": "code",
   "execution_count": 15,
   "metadata": {},
   "outputs": [
    {
     "data": {
      "text/plain": [
       "[{'mgr.managerName': 'Dodge & Cox', 'totalInvestmentValue': 3889236092000.0},\n",
       " {'mgr.managerName': 'WELLS FARGO & COMPANY/MN',\n",
       "  'totalInvestmentValue': 2177580039000.0},\n",
       " {'mgr.managerName': 'CHARLES SCHWAB INVESTMENT MANAGEMENT INC',\n",
       "  'totalInvestmentValue': 1944847519000.0},\n",
       " {'mgr.managerName': 'Parallax Volatility Advisers, L.P.',\n",
       "  'totalInvestmentValue': 694023723000.0},\n",
       " {'mgr.managerName': 'PARNASSUS INVESTMENTS, LLC',\n",
       "  'totalInvestmentValue': 211068925000.0},\n",
       " {'mgr.managerName': 'Spyglass Capital Management LLC',\n",
       "  'totalInvestmentValue': 98135259000.0},\n",
       " {'mgr.managerName': 'Valiant Capital Management, L.P.',\n",
       "  'totalInvestmentValue': 52124040000.0},\n",
       " {'mgr.managerName': 'Ensemble Capital Management, LLC',\n",
       "  'totalInvestmentValue': 42355370000.0},\n",
       " {'mgr.managerName': 'Woodline Partners LP',\n",
       "  'totalInvestmentValue': 41497384000.0},\n",
       " {'mgr.managerName': 'Alta Park Capital, LP',\n",
       "  'totalInvestmentValue': 38959909000.0}]"
      ]
     },
     "execution_count": 15,
     "metadata": {},
     "output_type": "execute_result"
    }
   ],
   "source": [
    "cypher = \"\"\"\n",
    "    MATCH p=(mgr:Manager)-[:LOCATED_AT]->(addr: Address),\n",
    "        (mgr)-[owns:OWNS_STOCK_IN]->(:Company)\n",
    "        WHERE addr.city = 'San Francisco'\n",
    "    RETURN mgr.managerName, sum(owns.value) as totalInvestmentValue\n",
    "    ORDER BY totalInvestmentValue DESC\n",
    "    LIMIT 10\n",
    "\"\"\"\n",
    "\n",
    "kg.query(query=cypher)"
   ]
  },
  {
   "cell_type": "markdown",
   "metadata": {},
   "source": [
    "- What companies are located in Santa Clara?"
   ]
  },
  {
   "cell_type": "code",
   "execution_count": 16,
   "metadata": {},
   "outputs": [
    {
     "data": {
      "text/plain": [
       "[{'com.companyName': 'PALO ALTO NETWORKS INC'},\n",
       " {'com.companyName': 'SEAGATE TECHNOLOGY'},\n",
       " {'com.companyName': 'ATLASSIAN CORP PLC'}]"
      ]
     },
     "execution_count": 16,
     "metadata": {},
     "output_type": "execute_result"
    }
   ],
   "source": [
    "cypher = \"\"\"\n",
    "    MATCH p=(com:Company)-[:LOCATED_AT]->(addr:Address)\n",
    "        WHERE addr.city = 'Santa Clara'\n",
    "    RETURN com.companyName\n",
    "\"\"\"\n",
    "\n",
    "kg.query(query=cypher)"
   ]
  },
  {
   "cell_type": "markdown",
   "metadata": {},
   "source": [
    "- What companies are near Santa Clara?"
   ]
  },
  {
   "cell_type": "code",
   "execution_count": 18,
   "metadata": {},
   "outputs": [
    {
     "data": {
      "text/plain": [
       "[{'com.companyName': 'PALO ALTO NETWORKS INC',\n",
       "  'com.companyAddress': '3000 Tannery Way, Santa Clara, CA 95054, USA'},\n",
       " {'com.companyName': 'GSI TECHNOLOGY INC',\n",
       "  'com.companyAddress': '1213 Elko Dr, Sunnyvale, CA 94089, USA'},\n",
       " {'com.companyName': 'SEAGATE TECHNOLOGY',\n",
       "  'com.companyAddress': '2445 Augustine Dr, Santa Clara, CA 95054, USA'},\n",
       " {'com.companyName': 'ATLASSIAN CORP PLC',\n",
       "  'com.companyAddress': '431 El Camino Real, Santa Clara, CA 95050, USA'},\n",
       " {'com.companyName': 'APPLE INC', 'com.companyAddress': 'Cupertino, CA, USA'}]"
      ]
     },
     "execution_count": 18,
     "metadata": {},
     "output_type": "execute_result"
    }
   ],
   "source": [
    "cypher = \"\"\"\n",
    "    MATCH (sc: Address)\n",
    "        WHERE sc.city = 'Santa Clara'\n",
    "    MATCH (com:Company)-[:LOCATED_AT]->(addr:Address)\n",
    "        WHERE point.distance(addr.location, sc.location) < 10000\n",
    "    RETURN com.companyName, com.companyAddress\n",
    "\"\"\"\n",
    "\n",
    "kg.query(query=cypher)"
   ]
  },
  {
   "cell_type": "markdown",
   "metadata": {},
   "source": [
    "- What investment firms are near Santa Clara?\n",
    "- Try updating the distance in the query to expand the search radius"
   ]
  },
  {
   "cell_type": "code",
   "execution_count": 19,
   "metadata": {},
   "outputs": [
    {
     "data": {
      "text/plain": [
       "[{'mgr.managerName': 'Mine & Arao Wealth Creation & Management, LLC.',\n",
       "  'mgr.managerAddress': '901 CAMPISI WAY, SUITE 140, CAMPBELL, CA, 95008'}]"
      ]
     },
     "execution_count": 19,
     "metadata": {},
     "output_type": "execute_result"
    }
   ],
   "source": [
    "cypher = \"\"\"\n",
    "    MATCH (sc: Address)\n",
    "        WHERE sc.city = \"Santa Clara\"\n",
    "    MATCH (mgr: Manager)-[:LOCATED_AT]->(mgrAddress: Address)\n",
    "        WHERE point.distance(sc.location, mgrAddress.location) < 10000\n",
    "    RETURN mgr.managerName, mgr.managerAddress\n",
    "\"\"\"\n",
    "\n",
    "kg.query(query=cypher)"
   ]
  },
  {
   "cell_type": "markdown",
   "metadata": {},
   "source": [
    "- Which investment firms are near Palo Alto Networks?\n",
    "- Note that full-text search is able to handle typos!"
   ]
  },
  {
   "cell_type": "code",
   "execution_count": 27,
   "metadata": {},
   "outputs": [
    {
     "data": {
      "text/plain": [
       "[{'mgr': {'managerCik': '1611518',\n",
       "   'managerAddress': '800 WEST EL CAMINO REAL SUITE 201, MOUNTAIN VIEW, CA, 94040',\n",
       "   'location': POINT(-122.0842031 37.3862077),\n",
       "   'managerName': 'Wealth Architects, LLC'},\n",
       "  'distanceKm': 6},\n",
       " {'mgr': {'managerCik': '1802994',\n",
       "   'managerAddress': '901 CAMPISI WAY, SUITE 140, CAMPBELL, CA, 95008',\n",
       "   'location': POINT(-121.9342655 37.2909459),\n",
       "   'managerName': 'Mine & Arao Wealth Creation & Management, LLC.'},\n",
       "  'distanceKm': 11},\n",
       " {'mgr': {'managerCik': '1911695',\n",
       "   'managerAddress': '1064 LAURELES DRIVE, LOS ALTOS, CA, 94022',\n",
       "   'location': POINT(-122.1239047 37.4017779),\n",
       "   'managerName': 'Family CFO Inc'},\n",
       "  'distanceKm': 12},\n",
       " {'mgr': {'managerCik': '1630365',\n",
       "   'managerAddress': '4984 EL CAMINO REAL, SUITE 101, LOS ALTOS, CA, 94022',\n",
       "   'location': POINT(-122.105859 37.397132),\n",
       "   'managerName': 'AIMZ Investment Advisors, LLC'},\n",
       "  'distanceKm': 12},\n",
       " {'mgr': {'managerCik': '1477872',\n",
       "   'managerAddress': 'P.O BOX 3552, SARATOGA, CA, 95070',\n",
       "   'location': POINT(-122.023004 37.2638319),\n",
       "   'managerName': 'Saratoga Research & Investment Management'},\n",
       "  'distanceKm': 13},\n",
       " {'mgr': {'managerCik': '1841769',\n",
       "   'managerAddress': '26625 St Francis Road, Los Altos Hills, CA, 94022',\n",
       "   'location': POINT(-122.1418499 37.3859728),\n",
       "   'managerName': 'Legal Advantage Investments, Inc.'},\n",
       "  'distanceKm': 14},\n",
       " {'mgr': {'managerCik': '1977092',\n",
       "   'managerAddress': '459 MONTEREY AVENUE, SUITE 100, LOS GATOS, CA, 95030',\n",
       "   'location': POINT(-121.9812582 37.2317728),\n",
       "   'managerName': 'Legacy Capital Group California, Inc.'},\n",
       "  'distanceKm': 16},\n",
       " {'mgr': {'managerCik': '1799802',\n",
       "   'managerAddress': '720 University Avenue, Suite 200, Los Gatos, CA, 95032',\n",
       "   'location': POINT(-121.9746688 37.2379941),\n",
       "   'managerName': 'Comprehensive Financial Management LLC'},\n",
       "  'distanceKm': 16},\n",
       " {'mgr': {'managerCik': '1463746',\n",
       "   'managerAddress': '16450 LOS GATOS BLVD, SUITE 207, LOS GATOS, CA, 95032',\n",
       "   'location': POINT(-121.9652627 37.2298178),\n",
       "   'managerName': 'SCHARF INVESTMENTS, LLC'},\n",
       "  'distanceKm': 16}]"
      ]
     },
     "execution_count": 27,
     "metadata": {},
     "output_type": "execute_result"
    }
   ],
   "source": [
    "cypher = \"\"\"\n",
    "    CALL db.index.fulltext.queryNodes(\"fullTextCompanyNames\", \"Palo Aalto Networks\")\n",
    "        YIELD node, score\n",
    "    WITH node as com\n",
    "    MATCH (com)-[:LOCATED_AT]->(comAddress: Address),\n",
    "        (mgr: Manager)-[:LOCATED_AT]->(mgrAddress: Address)\n",
    "            WHERE point.distance(comAddress.location, mgrAddress.location) < 20000\n",
    "    RETURN mgr, toInteger(point.distance(com.location, mgrAddress.location) / 1000) as distanceKm\n",
    "        ORDER BY distanceKm ASC\n",
    "        LIMIT 10\n",
    "\"\"\"\n",
    "\n",
    "kg.query(query=cypher)"
   ]
  },
  {
   "cell_type": "markdown",
   "metadata": {},
   "source": [
    "- Try pausing the video and modifying queries above to further explore the graph\n",
    "- You can learn more about Cypher at the neo4j website: https://neo4j.com/product/cypher-graph-query-language/ "
   ]
  },
  {
   "cell_type": "markdown",
   "metadata": {},
   "source": [
    "### Writing Cypher with an LLM"
   ]
  },
  {
   "cell_type": "markdown",
   "metadata": {},
   "source": [
    "In this section, you'll use few-shot learning to teach an LLM to write Cypher\n",
    "- You'll use the OpenAI's GPT 3.5 model \n",
    "- You'll also use a new Neo4j integration within LangChain called **GraphCypherQAChain**"
   ]
  },
  {
   "cell_type": "code",
   "execution_count": 29,
   "metadata": {},
   "outputs": [],
   "source": [
    "CYPHER_GENERATION_TEMPLATE = \"\"\"Task:Generate Cypher statement to \n",
    "query a graph database.\n",
    "Instructions:\n",
    "Use only the provided relationship types and properties in the \n",
    "schema. Do not use any other relationship types or properties that \n",
    "are not provided.\n",
    "Schema:\n",
    "{schema}\n",
    "Note: Do not include any explanations or apologies in your responses.\n",
    "Do not respond to any questions that might ask anything else than \n",
    "for you to construct a Cypher statement.\n",
    "Do not include any text except the generated Cypher statement.\n",
    "Examples: Here are a few examples of generated Cypher \n",
    "statements for particular questions:\n",
    "\n",
    "# What investment firms are in San Francisco?\n",
    "MATCH (mgr:Manager)-[:LOCATED_AT]->(mgrAddress:Address)\n",
    "    WHERE mgrAddress.city = 'San Francisco'\n",
    "RETURN mgr.managerName\n",
    "The question is:\n",
    "{question}\"\"\""
   ]
  },
  {
   "cell_type": "code",
   "execution_count": 30,
   "metadata": {},
   "outputs": [],
   "source": [
    "CYPHER_GENERATION_PROMPT = PromptTemplate(\n",
    "    input_variables=[\"schema\", \"question\"],\n",
    "    template=CYPHER_GENERATION_TEMPLATE\n",
    ")"
   ]
  },
  {
   "cell_type": "code",
   "execution_count": 31,
   "metadata": {},
   "outputs": [],
   "source": [
    "cypherChain = GraphCypherQAChain.from_llm(\n",
    "    ChatOpenAI(temperature=0),\n",
    "    graph=kg,\n",
    "    verbose=True,\n",
    "    cypher_prompt=CYPHER_GENERATION_PROMPT\n",
    ")"
   ]
  },
  {
   "cell_type": "code",
   "execution_count": 9,
   "metadata": {},
   "outputs": [],
   "source": [
    "def prettyCypherChain(question: str) -> str:\n",
    "    response = cypherChain.run(question)\n",
    "    print(textwrap.fill(text=response, width=60))"
   ]
  },
  {
   "cell_type": "code",
   "execution_count": 39,
   "metadata": {},
   "outputs": [
    {
     "name": "stdout",
     "output_type": "stream",
     "text": [
      "\n",
      "\n",
      "\u001b[1m> Entering new GraphCypherQAChain chain...\u001b[0m\n",
      "Generated Cypher:\n",
      "\u001b[32;1m\u001b[1;3mMATCH (mgr:Manager)-[:LOCATED_AT]->(mgrAddress:Address)\n",
      "WHERE mgrAddress.city = 'San Francisco'\n",
      "RETURN mgr.managerName\u001b[0m\n",
      "Full Context:\n",
      "\u001b[32;1m\u001b[1;3m[{'mgr.managerName': 'PARNASSUS INVESTMENTS, LLC'}, {'mgr.managerName': 'SKBA CAPITAL MANAGEMENT LLC'}, {'mgr.managerName': 'ROSENBLUM SILVERMAN SUTTON S F INC /CA'}, {'mgr.managerName': 'CHARLES SCHWAB INVESTMENT MANAGEMENT INC'}, {'mgr.managerName': 'WELLS FARGO & COMPANY/MN'}, {'mgr.managerName': 'Dodge & Cox'}, {'mgr.managerName': 'Strait & Sound Wealth Management LLC'}, {'mgr.managerName': 'Sonoma Private Wealth LLC'}, {'mgr.managerName': 'Fund Management at Engine No. 1 LLC'}, {'mgr.managerName': 'SELDON CAPITAL LP'}]\u001b[0m\n",
      "\n",
      "\u001b[1m> Finished chain.\u001b[0m\n",
      "PARNASSUS INVESTMENTS, LLC, SKBA CAPITAL MANAGEMENT LLC,\n",
      "ROSENBLUM SILVERMAN SUTTON S F INC /CA, and Strait & Sound\n",
      "Wealth Management LLC are investment firms in San Francisco.\n"
     ]
    }
   ],
   "source": [
    "prettyCypherChain(\"What investment firms are in San Francisco?\")"
   ]
  },
  {
   "cell_type": "code",
   "execution_count": 35,
   "metadata": {},
   "outputs": [
    {
     "name": "stdout",
     "output_type": "stream",
     "text": [
      "\n",
      "\n",
      "\u001b[1m> Entering new GraphCypherQAChain chain...\u001b[0m\n",
      "Generated Cypher:\n",
      "\u001b[32;1m\u001b[1;3mMATCH (mgr:Manager)-[:LOCATED_AT]->(mgrAddress:Address)\n",
      "    WHERE mgrAddress.city = 'Menlo Park'\n",
      "RETURN mgr.managerName\u001b[0m\n",
      "Full Context:\n",
      "\u001b[32;1m\u001b[1;3m[{'mgr.managerName': 'Bordeaux Wealth Advisors LLC'}, {'mgr.managerName': 'Opes Wealth Management LLC'}, {'mgr.managerName': 'Solstein Capital, LLC'}, {'mgr.managerName': 'Stamos Capital Partners, L.P.'}, {'mgr.managerName': 'TIEMANN INVESTMENT ADVISORS, LLC'}, {'mgr.managerName': 'SCGE MANAGEMENT, L.P.'}, {'mgr.managerName': 'Nelson Capital Management, LLC'}, {'mgr.managerName': 'Jasper Ridge Partners, L.P.'}, {'mgr.managerName': 'CROSSLINK CAPITAL INC'}]\u001b[0m\n",
      "\n",
      "\u001b[1m> Finished chain.\u001b[0m\n",
      "Bordeaux Wealth Advisors LLC, Opes Wealth Management LLC,\n",
      "Solstein Capital, LLC, Stamos Capital Partners, L.P.,\n",
      "TIEMANN INVESTMENT ADVISORS, LLC, SCGE MANAGEMENT, L.P.,\n",
      "Nelson Capital Management, LLC, Jasper Ridge Partners, L.P.,\n",
      "CROSSLINK CAPITAL INC are investment firms in Menlo Park.\n"
     ]
    }
   ],
   "source": [
    "prettyCypherChain(\"What investment firms are in Menlo Park?\")"
   ]
  },
  {
   "cell_type": "code",
   "execution_count": 36,
   "metadata": {},
   "outputs": [
    {
     "name": "stdout",
     "output_type": "stream",
     "text": [
      "\n",
      "\n",
      "\u001b[1m> Entering new GraphCypherQAChain chain...\u001b[0m\n",
      "Generated Cypher:\n",
      "\u001b[32;1m\u001b[1;3mMATCH (comp:Company)-[:LOCATED_AT]->(compAddress:Address)\n",
      "    WHERE compAddress.city = 'Santa Clara'\n",
      "RETURN comp.companyName\u001b[0m\n",
      "Full Context:\n",
      "\u001b[32;1m\u001b[1;3m[{'comp.companyName': 'PALO ALTO NETWORKS INC'}, {'comp.companyName': 'SEAGATE TECHNOLOGY'}, {'comp.companyName': 'ATLASSIAN CORP PLC'}]\u001b[0m\n",
      "\n",
      "\u001b[1m> Finished chain.\u001b[0m\n",
      "PALO ALTO NETWORKS INC, SEAGATE TECHNOLOGY, ATLASSIAN CORP\n",
      "PLC are in Santa Clara.\n"
     ]
    }
   ],
   "source": [
    "prettyCypherChain(\"What companies are in Santa Clara?\")"
   ]
  },
  {
   "cell_type": "code",
   "execution_count": 37,
   "metadata": {},
   "outputs": [
    {
     "name": "stdout",
     "output_type": "stream",
     "text": [
      "\n",
      "\n",
      "\u001b[1m> Entering new GraphCypherQAChain chain...\u001b[0m\n",
      "Generated Cypher:\n",
      "\u001b[32;1m\u001b[1;3mMATCH (comp:Company)-[:LOCATED_AT]->(compAddress:Address)\n",
      "    WHERE compAddress.city = 'Santa Clara'\n",
      "RETURN comp.companyName\u001b[0m\n",
      "Full Context:\n",
      "\u001b[32;1m\u001b[1;3m[{'comp.companyName': 'PALO ALTO NETWORKS INC'}, {'comp.companyName': 'SEAGATE TECHNOLOGY'}, {'comp.companyName': 'ATLASSIAN CORP PLC'}]\u001b[0m\n",
      "\n",
      "\u001b[1m> Finished chain.\u001b[0m\n",
      "PALO ALTO NETWORKS INC, SEAGATE TECHNOLOGY, ATLASSIAN CORP\n",
      "PLC are near Santa Clara.\n"
     ]
    }
   ],
   "source": [
    "prettyCypherChain(\"What companies are near Santa Clara?\")"
   ]
  },
  {
   "cell_type": "markdown",
   "metadata": {},
   "source": [
    "### Expand the prompt to teach the LLM new Cypher patterns"
   ]
  },
  {
   "cell_type": "code",
   "execution_count": 45,
   "metadata": {},
   "outputs": [],
   "source": [
    "CYPHER_GENERATION_TEMPLATE = \"\"\"Task:Generate Cypher statement to \n",
    "query a graph database.\n",
    "Instructions:\n",
    "Use only the provided relationship types and properties in the \n",
    "schema. Do not use any other relationship types or properties that \n",
    "are not provided.\n",
    "Schema:\n",
    "{schema}\n",
    "Note: Do not include any explanations or apologies in your responses.\n",
    "Do not respond to any questions that might ask anything else than \n",
    "for you to construct a Cypher statement.\n",
    "Do not include any text except the generated Cypher statement.\n",
    "Examples: Here are a few examples of generated Cypher \n",
    "statements for particular questions:\n",
    "\n",
    "# What investment firms are in San Francisco?\n",
    "MATCH (mgr:Manager)-[:LOCATED_AT]->(mgrAddress:Address)\n",
    "    WHERE mgrAddress.city = 'San Francisco'\n",
    "RETURN mgr.managerName\n",
    "\n",
    "# What investment firms are near Santa Clara?\n",
    "MATCH (address: Address)\n",
    "    WHERE address.city = 'Santa Clara'\n",
    "MATCH (mgr: Manager)-[:LOCATED_AT]->(mgrAddress: Address)\n",
    "    WHERE point.distance(address.location, mgrAddress.location) < 10000\n",
    "RETURN mgr.managerName, mgr.managerAddress\n",
    "\n",
    "The question is:\n",
    "{question}\"\"\""
   ]
  },
  {
   "cell_type": "markdown",
   "metadata": {},
   "source": [
    "- Update Cypher generation prompt with new template, and re-initialize the Cypher chain to use the new prompt\n",
    "- Rerun this code anytime you make a change to the Cypher generation template!"
   ]
  },
  {
   "cell_type": "code",
   "execution_count": 47,
   "metadata": {},
   "outputs": [],
   "source": [
    "CYPHER_GENERATION_PROMPT = PromptTemplate(\n",
    "    input_variables=[\"schema\", \"question\"],\n",
    "    template=CYPHER_GENERATION_TEMPLATE\n",
    ")\n",
    "\n",
    "cypherChain = GraphCypherQAChain.from_llm(\n",
    "    ChatOpenAI(temperature=0),\n",
    "    graph=kg,\n",
    "    verbose=True,\n",
    "    cypher_prompt=CYPHER_GENERATION_PROMPT\n",
    ")"
   ]
  },
  {
   "cell_type": "code",
   "execution_count": 48,
   "metadata": {},
   "outputs": [
    {
     "name": "stdout",
     "output_type": "stream",
     "text": [
      "\n",
      "\n",
      "\u001b[1m> Entering new GraphCypherQAChain chain...\u001b[0m\n",
      "Generated Cypher:\n",
      "\u001b[32;1m\u001b[1;3mMATCH (address: Address)\n",
      "    WHERE address.city = 'Santa Clara'\n",
      "MATCH (mgr: Manager)-[:LOCATED_AT]->(mgrAddress: Address)\n",
      "    WHERE point.distance(address.location, mgrAddress.location) < 10000\n",
      "RETURN mgr.managerName, mgr.managerAddress\u001b[0m\n",
      "Full Context:\n",
      "\u001b[32;1m\u001b[1;3m[{'mgr.managerName': 'Mine & Arao Wealth Creation & Management, LLC.', 'mgr.managerAddress': '901 CAMPISI WAY, SUITE 140, CAMPBELL, CA, 95008'}]\u001b[0m\n",
      "\n",
      "\u001b[1m> Finished chain.\u001b[0m\n",
      "Mine & Arao Wealth Creation & Management, LLC. is near Santa\n",
      "Clara.\n"
     ]
    }
   ],
   "source": [
    "prettyCypherChain(\"What investment firms are near Santa Clara?\")"
   ]
  },
  {
   "cell_type": "markdown",
   "metadata": {},
   "source": [
    "### Expand the query to retrieve information from the Form 10K chunks"
   ]
  },
  {
   "cell_type": "code",
   "execution_count": 49,
   "metadata": {},
   "outputs": [],
   "source": [
    "CYPHER_GENERATION_TEMPLATE = \"\"\"Task:Generate Cypher statement to \n",
    "query a graph database.\n",
    "Instructions:\n",
    "Use only the provided relationship types and properties in the \n",
    "schema. Do not use any other relationship types or properties that \n",
    "are not provided.\n",
    "Schema:\n",
    "{schema}\n",
    "Note: Do not include any explanations or apologies in your responses.\n",
    "Do not respond to any questions that might ask anything else than \n",
    "for you to construct a Cypher statement.\n",
    "Do not include any text except the generated Cypher statement.\n",
    "Examples: Here are a few examples of generated Cypher \n",
    "statements for particular questions:\n",
    "\n",
    "# What investment firms are in San Francisco?\n",
    "MATCH (mgr:Manager)-[:LOCATED_AT]->(mgrAddress:Address)\n",
    "    WHERE mgrAddress.city = 'San Francisco'\n",
    "RETURN mgr.managerName\n",
    "\n",
    "# What investment firms are near Santa Clara?\n",
    "MATCH (address: Address)\n",
    "    WHERE address.city = 'Santa Clara'\n",
    "MATCH (mgr: Manager)-[:LOCATED_AT]->(mgrAddress: Address)\n",
    "    WHERE point.distance(address.location, mgrAddress.location) < 10000\n",
    "RETURN mgr.managerName, mgr.managerAddress\n",
    "\n",
    "# What does Palo Alto Networks do?\n",
    "  CALL db.index.fulltext.queryNodes(\n",
    "         \"fullTextCompanyNames\", \n",
    "         \"Palo Alto Networks\"\n",
    "         ) YIELD node, score\n",
    "  WITH node as com\n",
    "  MATCH (com)-[:FILED]->(f:Form),\n",
    "    (f)-[s:SECTION]->(c:Chunk)\n",
    "  WHERE s.f10kItem = \"item1\"\n",
    "RETURN c.text\n",
    "\n",
    "The question is:\n",
    "{question}\"\"\""
   ]
  },
  {
   "cell_type": "code",
   "execution_count": 50,
   "metadata": {},
   "outputs": [],
   "source": [
    "CYPHER_GENERATION_PROMPT = PromptTemplate(\n",
    "    input_variables=[\"schema\", \"question\"],\n",
    "    template=CYPHER_GENERATION_TEMPLATE\n",
    ")\n",
    "\n",
    "cypherChain = GraphCypherQAChain.from_llm(\n",
    "    ChatOpenAI(temperature=0),\n",
    "    graph=kg,\n",
    "    verbose=True,\n",
    "    cypher_prompt=CYPHER_GENERATION_PROMPT\n",
    ")"
   ]
  },
  {
   "cell_type": "code",
   "execution_count": 51,
   "metadata": {},
   "outputs": [
    {
     "name": "stdout",
     "output_type": "stream",
     "text": [
      "\n",
      "\n",
      "\u001b[1m> Entering new GraphCypherQAChain chain...\u001b[0m\n",
      "Generated Cypher:\n",
      "\u001b[32;1m\u001b[1;3mCALL db.index.fulltext.queryNodes(\n",
      "     \"fullTextCompanyNames\", \n",
      "     \"Palo Alto Networks\"\n",
      "     ) YIELD node, score\n",
      "WITH node as com\n",
      "MATCH (com)-[:FILED]->(f:Form),\n",
      "  (f)-[s:SECTION]->(c:Chunk)\n",
      "WHERE s.f10kItem = \"item1\"\n",
      "RETURN c.text\u001b[0m\n",
      "Full Context:\n",
      "\u001b[32;1m\u001b[1;3m[{'c.text': '>Item 1. Business\\nGeneral\\nPalo Alto Networks, Inc. is a global cybersecurity provider with a vision of a world where each day is safer and more secure than the one before. We were incorporated in 2005 and are headquartered in Santa Clara, California.\\nWe empower enterprises, organizations, service providers, and government entities to protect themselves against today’s most sophisticated cyber threats. Our cybersecurity platforms and services help secure enterprise users, networks, clouds, and endpoints by delivering comprehensive cybersecurity backed by industry-leading artificial intelligence and automation. We are a leading provider of zero trust solutions, starting with next-generation zero trust network access to secure today’s remote hybrid workforces and extending to securing all users, applications, and infrastructure with zero trust principles. Our security solutions are designed to reduce customers’ total cost of ownership by improving operational efficiency and eliminating the need for siloed point products. Our company focuses on delivering value in four fundamental areas:\\nNetwork Security:\\n•\\nOur network security platform, designed to deliver complete zero trust solutions to our customers, includes our hardware and software ML-Powered Next-Generation Firewalls, as well as a cloud-delivered Secure Access Service Edge (“SASE”). Prisma\\n®\\n Access, our Security Services Edge (“SSE”) solution, when combined with Prisma SD-WAN, provides a comprehensive single-vendor SASE offering that is used to secure remote workforces and enable the cloud-delivered branch. We have been recognized as a leader in network firewalls, SSE, and SD-WAN. Our network security platform also includes our cloud-delivered security services, such as Advanced Threat Prevention, Advanced WildFire\\n®\\n, Advanced URL Filtering, DNS Security, IoT/OT Security, GlobalProtect\\n®'}]\u001b[0m\n",
      "\n",
      "\u001b[1m> Finished chain.\u001b[0m\n",
      "Palo Alto Networks is a global cybersecurity provider that\n",
      "empowers enterprises, organizations, service providers, and\n",
      "government entities to protect themselves against\n",
      "sophisticated cyber threats. Their cybersecurity platforms\n",
      "and services secure users, networks, clouds, and endpoints\n",
      "with industry-leading artificial intelligence and\n",
      "automation. They focus on delivering value in network\n",
      "security, zero trust solutions, and reducing total cost of\n",
      "ownership for customers.\n"
     ]
    }
   ],
   "source": [
    "prettyCypherChain(\"What does Palo Alto Networks do?\")"
   ]
  },
  {
   "cell_type": "markdown",
   "metadata": {},
   "source": [
    "### Try for yourself!\n",
    "\n",
    "- Update the Cypher generation prompt below to ask different questions of the graph\n",
    "- You can run the \"check schema\" cell to be reminded of the graph structure\n",
    "- Use any of the examples in this notebook, or in previous lessons, to get started\n",
    "- Remember to update the prompt template and restart the GraphCypherQAChain each time you make updates!"
   ]
  },
  {
   "cell_type": "code",
   "execution_count": 52,
   "metadata": {},
   "outputs": [
    {
     "name": "stdout",
     "output_type": "stream",
     "text": [
      "Node properties: Chunk {textEmbedding: LIST, f10kItem:\n",
      "STRING, chunkSeqId: INTEGER, text: STRING, cik: STRING,\n",
      "cusip6: STRING, names: LIST, formId: STRING, source: STRING,\n",
      "chunkId: STRING} Form {cusip6: STRING, names: LIST, formId:\n",
      "STRING, source: STRING} Company {location: POINT, cusip:\n",
      "STRING, names: LIST, companyAddress: STRING, companyName:\n",
      "STRING, cusip6: STRING} Manager {location: POINT,\n",
      "managerName: STRING, managerCik: STRING, managerAddress:\n",
      "STRING} Address {location: POINT, country: STRING, city:\n",
      "STRING, state: STRING} Relationship properties: SECTION\n",
      "{f10kItem: STRING} OWNS_STOCK_IN {shares: INTEGER,\n",
      "reportCalendarOrQuarter: STRING, value: FLOAT} The\n",
      "relationships: (:Chunk)-[:NEXT]->(:Chunk)\n",
      "(:Chunk)-[:PART_OF]->(:Form) (:Form)-[:SECTION]->(:Chunk)\n",
      "(:Company)-[:FILED]->(:Form)\n",
      "(:Company)-[:LOCATED_AT]->(:Address)\n",
      "(:Manager)-[:LOCATED_AT]->(:Address)\n",
      "(:Manager)-[:OWNS_STOCK_IN]->(:Company)\n"
     ]
    }
   ],
   "source": [
    "# Check the graph schema\n",
    "kg.refresh_schema()\n",
    "print(textwrap.fill(kg.schema, width=60))"
   ]
  },
  {
   "cell_type": "code",
   "execution_count": 53,
   "metadata": {},
   "outputs": [],
   "source": [
    "CYPHER_GENERATION_TEMPLATE = \"\"\"Task:Generate Cypher statement to \n",
    "query a graph database.\n",
    "Instructions:\n",
    "Use only the provided relationship types and properties in the \n",
    "schema. Do not use any other relationship types or properties that \n",
    "are not provided.\n",
    "Schema:\n",
    "{schema}\n",
    "Note: Do not include any explanations or apologies in your responses.\n",
    "Do not respond to any questions that might ask anything else than \n",
    "for you to construct a Cypher statement.\n",
    "Do not include any text except the generated Cypher statement.\n",
    "Examples: Here are a few examples of generated Cypher \n",
    "statements for particular questions:\n",
    "\n",
    "# What investment firms are in San Francisco?\n",
    "MATCH (mgr:Manager)-[:LOCATED_AT]->(mgrAddress:Address)\n",
    "    WHERE mgrAddress.city = 'San Francisco'\n",
    "RETURN mgr.managerName\n",
    "\n",
    "# What investment firms are near Santa Clara?\n",
    "MATCH (address: Address)\n",
    "    WHERE address.city = 'Santa Clara'\n",
    "MATCH (mgr: Manager)-[:LOCATED_AT]->(mgrAddress: Address)\n",
    "    WHERE point.distance(address.location, mgrAddress.location) < 10000\n",
    "RETURN mgr.managerName, mgr.managerAddress\n",
    "\n",
    "# What does Palo Alto Networks do?\n",
    "  CALL db.index.fulltext.queryNodes(\n",
    "         \"fullTextCompanyNames\", \n",
    "         \"Palo Alto Networks\"\n",
    "         ) YIELD node, score\n",
    "  WITH node as com\n",
    "  MATCH (com)-[:FILED]->(f:Form),\n",
    "    (f)-[s:SECTION]->(c:Chunk)\n",
    "  WHERE s.f10kItem = \"item1\"\n",
    "RETURN c.text\n",
    "\n",
    "The question is:\n",
    "{question}\"\"\""
   ]
  },
  {
   "cell_type": "code",
   "execution_count": 54,
   "metadata": {},
   "outputs": [],
   "source": [
    "CYPHER_GENERATION_PROMPT = PromptTemplate(\n",
    "    input_variables=[\"schema\", \"question\"],\n",
    "    template=CYPHER_GENERATION_TEMPLATE\n",
    ")\n",
    "\n",
    "cypherChain = GraphCypherQAChain.from_llm(\n",
    "    ChatOpenAI(temperature=0),\n",
    "    graph=kg,\n",
    "    verbose=True,\n",
    "    cypher_prompt=CYPHER_GENERATION_PROMPT\n",
    ")"
   ]
  },
  {
   "cell_type": "code",
   "execution_count": 55,
   "metadata": {},
   "outputs": [
    {
     "name": "stdout",
     "output_type": "stream",
     "text": [
      "\n",
      "\n",
      "\u001b[1m> Entering new GraphCypherQAChain chain...\u001b[0m\n",
      "Generated Cypher:\n",
      "\u001b[32;1m\u001b[1;3mMATCH (c:Company)-[:LOCATED_AT]->(a:Address)\n",
      "WITH a.state AS state, COUNT(c) AS numCompanies\n",
      "RETURN state, numCompanies\n",
      "ORDER BY numCompanies DESC\n",
      "LIMIT 1\u001b[0m\n",
      "Full Context:\n",
      "\u001b[32;1m\u001b[1;3m[{'state': 'California', 'numCompanies': 7}]\u001b[0m\n",
      "\n",
      "\u001b[1m> Finished chain.\u001b[0m\n",
      "California has the most companies with a total of 7.\n"
     ]
    }
   ],
   "source": [
    "prettyCypherChain(\"Determine which state has the most companies?\")"
   ]
  },
  {
   "cell_type": "code",
   "execution_count": 56,
   "metadata": {},
   "outputs": [
    {
     "name": "stdout",
     "output_type": "stream",
     "text": [
      "\n",
      "\n",
      "\u001b[1m> Entering new GraphCypherQAChain chain...\u001b[0m\n",
      "Generated Cypher:\n",
      "\u001b[32;1m\u001b[1;3mMATCH (mgr:Manager {managerName: 'Spyglass Capital Management'})-[:OWNS_STOCK_IN]->(company:Company)\n",
      "RETURN SUM(company.value) as total_investment\u001b[0m\n",
      "Full Context:\n",
      "\u001b[32;1m\u001b[1;3m[{'total_investment': 0}]\u001b[0m\n",
      "\n",
      "\u001b[1m> Finished chain.\u001b[0m\n",
      "The total investment by Spyglass Capital Management is 0.\n"
     ]
    }
   ],
   "source": [
    "prettyCypherChain(\"Determine total investment by Spyglass Capital Management?\")"
   ]
  },
  {
   "cell_type": "code",
   "execution_count": 57,
   "metadata": {},
   "outputs": [
    {
     "name": "stdout",
     "output_type": "stream",
     "text": [
      "\n",
      "\n",
      "\u001b[1m> Entering new GraphCypherQAChain chain...\u001b[0m\n",
      "Generated Cypher:\n",
      "\u001b[32;1m\u001b[1;3mMATCH (mgr:Manager {managerName: 'Spyglass Capital Management LLC'})-[:OWNS_STOCK_IN]->(company:Company)\n",
      "RETURN SUM(company.value) as total_investment\u001b[0m\n",
      "Full Context:\n",
      "\u001b[32;1m\u001b[1;3m[{'total_investment': 0}]\u001b[0m\n",
      "\n",
      "\u001b[1m> Finished chain.\u001b[0m\n",
      "The total investment by Spyglass Capital Management LLC is\n",
      "0.\n"
     ]
    }
   ],
   "source": [
    "prettyCypherChain(\"Determine total investment by Spyglass Capital Management LLC?\")"
   ]
  },
  {
   "cell_type": "markdown",
   "metadata": {},
   "source": [
    "Observations\n",
    "- The query is trying to compute investment value from a **non-existent** `value` field in `Company`. It should read from the `value` field in the relationship `OWNS_STOCK_IN`\n",
    "- If the exact name of investment firm is not provided, the query should use full text search."
   ]
  },
  {
   "cell_type": "code",
   "execution_count": 6,
   "metadata": {},
   "outputs": [],
   "source": [
    "CYPHER_GENERATION_TEMPLATE = \"\"\"Task:Generate Cypher statement to \n",
    "query a graph database.\n",
    "Instructions:\n",
    "Use only the provided relationship types and properties in the \n",
    "schema. Do not use any other relationship types or properties that \n",
    "are not provided.\n",
    "Schema:\n",
    "{schema}\n",
    "Note: Do not include any explanations or apologies in your responses.\n",
    "Do not respond to any questions that might ask anything else than \n",
    "for you to construct a Cypher statement.\n",
    "Do not include any text except the generated Cypher statement.\n",
    "Examples: Here are a few examples of generated Cypher \n",
    "statements for particular questions:\n",
    "\n",
    "# What investment firms are in San Francisco?\n",
    "MATCH (mgr:Manager)-[:LOCATED_AT]->(mgrAddress:Address)\n",
    "    WHERE mgrAddress.city = 'San Francisco'\n",
    "RETURN mgr.managerName\n",
    "\n",
    "# What investment firms are near Santa Clara?\n",
    "MATCH (address: Address)\n",
    "    WHERE address.city = 'Santa Clara'\n",
    "MATCH (mgr: Manager)-[:LOCATED_AT]->(mgrAddress: Address)\n",
    "    WHERE point.distance(address.location, mgrAddress.location) < 10000\n",
    "RETURN mgr.managerName, mgr.managerAddress\n",
    "\n",
    "# What does Palo Alto Networks do?\n",
    "CALL db.index.fulltext.queryNodes(\n",
    "        \"fullTextCompanyNames\", \n",
    "        \"Palo Alto Networks\"\n",
    "        ) YIELD node, score\n",
    "WITH node as com\n",
    "MATCH (com)-[:FILED]->(f:Form),\n",
    "(f)-[s:SECTION]->(c:Chunk)\n",
    "WHERE s.f10kItem = \"item1\"\n",
    "RETURN c.text\n",
    "\n",
    "# What is the total investment by the management firm Nelson Capital Management\n",
    "CALL db.index.fulltext.queryNodes(\n",
    "    \"fullTextManagerNames\", \"Nelson Capital Management\"\n",
    "    ) YIELD node, score\n",
    "WITH node as mgr\n",
    "MATCH (mgr)-[owns:OWNS_STOCK_IN]->(com: Company)\n",
    "RETURN mgr.managerName, SUM(owns.value) as totalInvestment\n",
    "\n",
    "The question is:\n",
    "{question}\"\"\""
   ]
  },
  {
   "cell_type": "code",
   "execution_count": 7,
   "metadata": {},
   "outputs": [],
   "source": [
    "CYPHER_GENERATION_PROMPT = PromptTemplate(\n",
    "    input_variables=[\"schema\", \"question\"],\n",
    "    template=CYPHER_GENERATION_TEMPLATE\n",
    ")\n",
    "\n",
    "cypherChain = GraphCypherQAChain.from_llm(\n",
    "    ChatOpenAI(temperature=0),\n",
    "    graph=kg,\n",
    "    verbose=True,\n",
    "    cypher_prompt=CYPHER_GENERATION_PROMPT\n",
    ")"
   ]
  },
  {
   "cell_type": "code",
   "execution_count": 10,
   "metadata": {},
   "outputs": [
    {
     "name": "stderr",
     "output_type": "stream",
     "text": [
      "/home/kaushik/miniconda3/envs/py3_knowledge_graphs_rag_course/lib/python3.12/site-packages/langchain_core/_api/deprecation.py:119: LangChainDeprecationWarning: The method `Chain.run` was deprecated in langchain 0.1.0 and will be removed in 0.3.0. Use invoke instead.\n",
      "  warn_deprecated(\n"
     ]
    },
    {
     "name": "stdout",
     "output_type": "stream",
     "text": [
      "\n",
      "\n",
      "\u001b[1m> Entering new GraphCypherQAChain chain...\u001b[0m\n",
      "Generated Cypher:\n",
      "\u001b[32;1m\u001b[1;3mCALL db.index.fulltext.queryNodes(\n",
      "    \"fullTextManagerNames\", \"Spyglass Capital Management LLC\"\n",
      "    ) YIELD node, score\n",
      "WITH node as mgr\n",
      "MATCH (mgr)-[owns:OWNS_STOCK_IN]->(com: Company)\n",
      "RETURN mgr.managerName, SUM(owns.value) as totalInvestment\u001b[0m\n",
      "Full Context:\n",
      "\u001b[32;1m\u001b[1;3m[{'mgr.managerName': 'Spyglass Capital Management LLC', 'totalInvestment': 98135259000.0}, {'mgr.managerName': 'SANDS CAPITAL MANAGEMENT, LLC', 'totalInvestment': 510049680000.0}, {'mgr.managerName': 'CHILTON CAPITAL MANAGEMENT LLC', 'totalInvestment': 22349034000.0}, {'mgr.managerName': 'BUCKHEAD CAPITAL MANAGEMENT LLC', 'totalInvestment': 240215000.0}, {'mgr.managerName': 'Windsor Capital Management, LLC', 'totalInvestment': 657163000.0}, {'mgr.managerName': 'GLENVIEW CAPITAL MANAGEMENT, LLC', 'totalInvestment': 23706181000.0}, {'mgr.managerName': 'Ionic Capital Management LLC', 'totalInvestment': 2047158000.0}, {'mgr.managerName': 'JS Capital Management LLC', 'totalInvestment': 13797540000.0}, {'mgr.managerName': 'Shaolin Capital Management LLC', 'totalInvestment': 22685000.0}, {'mgr.managerName': 'Ensemble Capital Management, LLC', 'totalInvestment': 42355370000.0}]\u001b[0m\n",
      "\n",
      "\u001b[1m> Finished chain.\u001b[0m\n",
      "The total investment by Spyglass Capital Management LLC is\n",
      "98,135,259,000.\n"
     ]
    }
   ],
   "source": [
    "prettyCypherChain(\"Determine total investment by Spyglass Capital Management LLC?\")"
   ]
  },
  {
   "cell_type": "code",
   "execution_count": 11,
   "metadata": {},
   "outputs": [
    {
     "name": "stdout",
     "output_type": "stream",
     "text": [
      "\n",
      "\n",
      "\u001b[1m> Entering new GraphCypherQAChain chain...\u001b[0m\n",
      "Generated Cypher:\n",
      "\u001b[32;1m\u001b[1;3mCALL db.index.fulltext.queryNodes(\n",
      "    \"fullTextManagerNames\", \"Spyglass Capital Management LLC\"\n",
      "    ) YIELD node, score\n",
      "WITH node as mgr\n",
      "MATCH (mgr)-[owns:OWNS_STOCK_IN]->(com: Company)\n",
      "RETURN mgr.managerName, SUM(owns.shares) as totalSharesOwned\u001b[0m\n",
      "Full Context:\n",
      "\u001b[32;1m\u001b[1;3m[{'mgr.managerName': 'Spyglass Capital Management LLC', 'totalSharesOwned': 384076}, {'mgr.managerName': 'SANDS CAPITAL MANAGEMENT, LLC', 'totalSharesOwned': 4621271}, {'mgr.managerName': 'CHILTON CAPITAL MANAGEMENT LLC', 'totalSharesOwned': 88146}, {'mgr.managerName': 'BUCKHEAD CAPITAL MANAGEMENT LLC', 'totalSharesOwned': 969}, {'mgr.managerName': 'Windsor Capital Management, LLC', 'totalSharesOwned': 5954}, {'mgr.managerName': 'GLENVIEW CAPITAL MANAGEMENT, LLC', 'totalSharesOwned': 95628}, {'mgr.managerName': 'Ionic Capital Management LLC', 'totalSharesOwned': 8258}, {'mgr.managerName': 'JS Capital Management LLC', 'totalSharesOwned': 54000}, {'mgr.managerName': 'Shaolin Capital Management LLC', 'totalSharesOwned': 88783}, {'mgr.managerName': 'Ensemble Capital Management, LLC', 'totalSharesOwned': 383758}]\u001b[0m\n",
      "\n",
      "\u001b[1m> Finished chain.\u001b[0m\n",
      "384076\n"
     ]
    }
   ],
   "source": [
    "prettyCypherChain(\"What is the total shares owned by Spyglass Capital Management LLC?\")"
   ]
  }
 ],
 "metadata": {
  "kernelspec": {
   "display_name": "py3_knowledge_graphs_rag_course",
   "language": "python",
   "name": "python3"
  },
  "language_info": {
   "codemirror_mode": {
    "name": "ipython",
    "version": 3
   },
   "file_extension": ".py",
   "mimetype": "text/x-python",
   "name": "python",
   "nbconvert_exporter": "python",
   "pygments_lexer": "ipython3",
   "version": "3.12.3"
  }
 },
 "nbformat": 4,
 "nbformat_minor": 2
}
